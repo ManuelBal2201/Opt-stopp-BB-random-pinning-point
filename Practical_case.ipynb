{
 "cells": [
  {
   "cell_type": "code",
   "execution_count": 1,
   "id": "0df04093-f46b-495d-84fe-4ef4a657263c",
   "metadata": {},
   "outputs": [],
   "source": [
    "# Libraries\n",
    "## Mathematics\n",
    "import numpy as np\n",
    "import pandas as pd\n",
    "from scipy.interpolate import interp1d\n",
    "\n",
    "## Visualization\n",
    "import matplotlib.pyplot as plt"
   ]
  },
  {
   "cell_type": "code",
   "execution_count": 2,
   "id": "1eb3f60a-40c0-440a-8730-7d92fd126385",
   "metadata": {},
   "outputs": [],
   "source": [
    "# Load functions .py files\n",
    "from Practical_case_functions import EM_Algorithm, KDE\n",
    "from Visualisation import OSB_visualisation\n",
    "from Checking_simulated_boundary_functions_3 import optimal_stopping_montecarlo_3"
   ]
  },
  {
   "cell_type": "markdown",
   "id": "7ac767e5-dcab-4cbd-86ec-32c5d05ac36b",
   "metadata": {},
   "source": [
    "# Data preparation"
   ]
  },
  {
   "cell_type": "code",
   "execution_count": 3,
   "id": "e2d7ea03-a567-4eaa-a4f8-5bc63d102e96",
   "metadata": {},
   "outputs": [],
   "source": [
    "# Read data\n",
    "df_options = pd.read_csv(r'C:\\Users\\User\\Documents\\Data\\aapl_2016_2020.csv', sep=',', header=0, low_memory = False)\n",
    "df_stock = pd.read_csv(r'C:\\Users\\User\\Documents\\Data\\AAPL.csv', sep=',', header=0, low_memory = False)"
   ]
  },
  {
   "cell_type": "markdown",
   "id": "ab565315-5e5f-44e5-a67b-498af768644d",
   "metadata": {},
   "source": [
    "## Options dataframe preprocessing"
   ]
  },
  {
   "cell_type": "code",
   "execution_count": 4,
   "id": "e2ca7a50-4437-40d0-bf54-a8f87f197191",
   "metadata": {},
   "outputs": [
    {
     "name": "stderr",
     "output_type": "stream",
     "text": [
      "C:\\Users\\User\\AppData\\Local\\Temp\\ipykernel_1821312\\586929124.py:8: SettingWithCopyWarning: \n",
      "A value is trying to be set on a copy of a slice from a DataFrame.\n",
      "Try using .loc[row_indexer,col_indexer] = value instead\n",
      "\n",
      "See the caveats in the documentation: https://pandas.pydata.org/pandas-docs/stable/user_guide/indexing.html#returning-a-view-versus-a-copy\n",
      "  df_options1['Issuance date'] = pd.to_datetime(df_options1['Issuance date'])\n",
      "C:\\Users\\User\\AppData\\Local\\Temp\\ipykernel_1821312\\586929124.py:9: SettingWithCopyWarning: \n",
      "A value is trying to be set on a copy of a slice from a DataFrame.\n",
      "Try using .loc[row_indexer,col_indexer] = value instead\n",
      "\n",
      "See the caveats in the documentation: https://pandas.pydata.org/pandas-docs/stable/user_guide/indexing.html#returning-a-view-versus-a-copy\n",
      "  df_options1['Expiration date'] = pd.to_datetime(df_options1['Expiration date'])\n"
     ]
    },
    {
     "data": {
      "text/html": [
       "<div>\n",
       "<style scoped>\n",
       "    .dataframe tbody tr th:only-of-type {\n",
       "        vertical-align: middle;\n",
       "    }\n",
       "\n",
       "    .dataframe tbody tr th {\n",
       "        vertical-align: top;\n",
       "    }\n",
       "\n",
       "    .dataframe thead th {\n",
       "        text-align: right;\n",
       "    }\n",
       "</style>\n",
       "<table border=\"1\" class=\"dataframe\">\n",
       "  <thead>\n",
       "    <tr style=\"text-align: right;\">\n",
       "      <th></th>\n",
       "      <th>Issuance date</th>\n",
       "      <th>Expiration date</th>\n",
       "      <th>Call volume</th>\n",
       "      <th>Strike price</th>\n",
       "      <th>Put volume</th>\n",
       "      <th>Total volume</th>\n",
       "    </tr>\n",
       "  </thead>\n",
       "  <tbody>\n",
       "    <tr>\n",
       "      <th>0</th>\n",
       "      <td>2019-01-02</td>\n",
       "      <td>2019-02-01</td>\n",
       "      <td>0.0</td>\n",
       "      <td>100.0</td>\n",
       "      <td>1.0</td>\n",
       "      <td>1.0</td>\n",
       "    </tr>\n",
       "    <tr>\n",
       "      <th>1</th>\n",
       "      <td>2019-01-02</td>\n",
       "      <td>2019-02-01</td>\n",
       "      <td>0.0</td>\n",
       "      <td>105.0</td>\n",
       "      <td>1.0</td>\n",
       "      <td>1.0</td>\n",
       "    </tr>\n",
       "    <tr>\n",
       "      <th>2</th>\n",
       "      <td>2019-01-02</td>\n",
       "      <td>2019-02-01</td>\n",
       "      <td>0.0</td>\n",
       "      <td>110.0</td>\n",
       "      <td>11.0</td>\n",
       "      <td>11.0</td>\n",
       "    </tr>\n",
       "    <tr>\n",
       "      <th>3</th>\n",
       "      <td>2019-01-02</td>\n",
       "      <td>2019-02-01</td>\n",
       "      <td>2.0</td>\n",
       "      <td>115.0</td>\n",
       "      <td>17.0</td>\n",
       "      <td>19.0</td>\n",
       "    </tr>\n",
       "    <tr>\n",
       "      <th>4</th>\n",
       "      <td>2019-01-02</td>\n",
       "      <td>2019-02-01</td>\n",
       "      <td>0.0</td>\n",
       "      <td>120.0</td>\n",
       "      <td>39.0</td>\n",
       "      <td>39.0</td>\n",
       "    </tr>\n",
       "  </tbody>\n",
       "</table>\n",
       "</div>"
      ],
      "text/plain": [
       "  Issuance date Expiration date  Call volume  Strike price  Put volume  \\\n",
       "0    2019-01-02      2019-02-01          0.0         100.0         1.0   \n",
       "1    2019-01-02      2019-02-01          0.0         105.0         1.0   \n",
       "2    2019-01-02      2019-02-01          0.0         110.0        11.0   \n",
       "3    2019-01-02      2019-02-01          2.0         115.0        17.0   \n",
       "4    2019-01-02      2019-02-01          0.0         120.0        39.0   \n",
       "\n",
       "   Total volume  \n",
       "0           1.0  \n",
       "1           1.0  \n",
       "2          11.0  \n",
       "3          19.0  \n",
       "4          39.0  "
      ]
     },
     "execution_count": 4,
     "metadata": {},
     "output_type": "execute_result"
    }
   ],
   "source": [
    "# Filter columns of the options\n",
    "df_options1 = df_options[[' [QUOTE_DATE]', ' [EXPIRE_DATE]', ' [C_VOLUME]', ' [STRIKE]', ' [P_VOLUME]']]\n",
    "\n",
    "# Rename columns\n",
    "df_options1.columns = ['Issuance date', 'Expiration date', 'Call volume', 'Strike price', 'Put volume']\n",
    "\n",
    "# Keep only the options from 2022-07-01 to 2022-08-01\n",
    "df_options1['Issuance date'] = pd.to_datetime(df_options1['Issuance date'])\n",
    "df_options1['Expiration date'] = pd.to_datetime(df_options1['Expiration date'])\n",
    "df_options2 = df_options1[(df_options1['Issuance date'] == '2019-01-02') & (df_options1['Expiration date'] == '2019-02-01')]\n",
    "\n",
    "# Replace \" \" with 0\n",
    "df_options3 = df_options2.replace(\" \", 0)\n",
    "\n",
    "# Convert volumes to numeric (in case they were strings)\n",
    "df_options3[\"Call volume\"] = pd.to_numeric(df_options2[\"Call volume\"], errors='coerce').fillna(0)\n",
    "df_options3[\"Put volume\"] = pd.to_numeric(df_options2[\"Put volume\"], errors='coerce').fillna(0)\n",
    "\n",
    "# Reset the index\n",
    "df_options4 = df_options3.reset_index(drop=True)\n",
    "\n",
    "# Add total volume\n",
    "df_options4[\"Total volume\"] = df_options4[\"Call volume\"] + df_options4[\"Put volume\"]\n",
    "df_options_final = df_options4\n",
    "\n",
    "# Visualisation final dataset\n",
    "df_options_final.head()"
   ]
  },
  {
   "cell_type": "markdown",
   "id": "2d2b1d31-710a-4cb3-a69c-334c93c3c7ac",
   "metadata": {},
   "source": [
    "## Stock dataframe preprocessing"
   ]
  },
  {
   "cell_type": "code",
   "execution_count": 5,
   "id": "49dbdf0f-91fe-4532-88d4-cd15e4f8feea",
   "metadata": {},
   "outputs": [
    {
     "data": {
      "text/html": [
       "<div>\n",
       "<style scoped>\n",
       "    .dataframe tbody tr th:only-of-type {\n",
       "        vertical-align: middle;\n",
       "    }\n",
       "\n",
       "    .dataframe tbody tr th {\n",
       "        vertical-align: top;\n",
       "    }\n",
       "\n",
       "    .dataframe thead th {\n",
       "        text-align: right;\n",
       "    }\n",
       "</style>\n",
       "<table border=\"1\" class=\"dataframe\">\n",
       "  <thead>\n",
       "    <tr style=\"text-align: right;\">\n",
       "      <th></th>\n",
       "      <th>Date</th>\n",
       "      <th>Open</th>\n",
       "      <th>High</th>\n",
       "      <th>Low</th>\n",
       "      <th>Close</th>\n",
       "      <th>Middle</th>\n",
       "    </tr>\n",
       "  </thead>\n",
       "  <tbody>\n",
       "    <tr>\n",
       "      <th>0</th>\n",
       "      <td>2019-01-02</td>\n",
       "      <td>38.722500</td>\n",
       "      <td>39.712502</td>\n",
       "      <td>38.557499</td>\n",
       "      <td>39.480000</td>\n",
       "      <td>39.135001</td>\n",
       "    </tr>\n",
       "    <tr>\n",
       "      <th>1</th>\n",
       "      <td>2019-01-03</td>\n",
       "      <td>35.994999</td>\n",
       "      <td>36.430000</td>\n",
       "      <td>35.500000</td>\n",
       "      <td>35.547501</td>\n",
       "      <td>35.965000</td>\n",
       "    </tr>\n",
       "    <tr>\n",
       "      <th>2</th>\n",
       "      <td>2019-01-04</td>\n",
       "      <td>36.132500</td>\n",
       "      <td>37.137501</td>\n",
       "      <td>35.950001</td>\n",
       "      <td>37.064999</td>\n",
       "      <td>36.543751</td>\n",
       "    </tr>\n",
       "    <tr>\n",
       "      <th>3</th>\n",
       "      <td>2019-01-07</td>\n",
       "      <td>37.174999</td>\n",
       "      <td>37.207500</td>\n",
       "      <td>36.474998</td>\n",
       "      <td>36.982498</td>\n",
       "      <td>36.841249</td>\n",
       "    </tr>\n",
       "    <tr>\n",
       "      <th>4</th>\n",
       "      <td>2019-01-08</td>\n",
       "      <td>37.389999</td>\n",
       "      <td>37.955002</td>\n",
       "      <td>37.130001</td>\n",
       "      <td>37.687500</td>\n",
       "      <td>37.542502</td>\n",
       "    </tr>\n",
       "    <tr>\n",
       "      <th>5</th>\n",
       "      <td>2019-01-09</td>\n",
       "      <td>37.822498</td>\n",
       "      <td>38.632500</td>\n",
       "      <td>37.407501</td>\n",
       "      <td>38.327499</td>\n",
       "      <td>38.020001</td>\n",
       "    </tr>\n",
       "    <tr>\n",
       "      <th>6</th>\n",
       "      <td>2019-01-10</td>\n",
       "      <td>38.125000</td>\n",
       "      <td>38.492500</td>\n",
       "      <td>37.715000</td>\n",
       "      <td>38.450001</td>\n",
       "      <td>38.103750</td>\n",
       "    </tr>\n",
       "    <tr>\n",
       "      <th>7</th>\n",
       "      <td>2019-01-11</td>\n",
       "      <td>38.220001</td>\n",
       "      <td>38.424999</td>\n",
       "      <td>37.877499</td>\n",
       "      <td>38.072498</td>\n",
       "      <td>38.151249</td>\n",
       "    </tr>\n",
       "    <tr>\n",
       "      <th>8</th>\n",
       "      <td>2019-01-14</td>\n",
       "      <td>37.712502</td>\n",
       "      <td>37.817501</td>\n",
       "      <td>37.305000</td>\n",
       "      <td>37.500000</td>\n",
       "      <td>37.561250</td>\n",
       "    </tr>\n",
       "    <tr>\n",
       "      <th>9</th>\n",
       "      <td>2019-01-15</td>\n",
       "      <td>37.567501</td>\n",
       "      <td>38.347500</td>\n",
       "      <td>37.512501</td>\n",
       "      <td>38.267502</td>\n",
       "      <td>37.930000</td>\n",
       "    </tr>\n",
       "    <tr>\n",
       "      <th>10</th>\n",
       "      <td>2019-01-16</td>\n",
       "      <td>38.270000</td>\n",
       "      <td>38.970001</td>\n",
       "      <td>38.250000</td>\n",
       "      <td>38.735001</td>\n",
       "      <td>38.610000</td>\n",
       "    </tr>\n",
       "    <tr>\n",
       "      <th>11</th>\n",
       "      <td>2019-01-17</td>\n",
       "      <td>38.549999</td>\n",
       "      <td>39.415001</td>\n",
       "      <td>38.314999</td>\n",
       "      <td>38.965000</td>\n",
       "      <td>38.865000</td>\n",
       "    </tr>\n",
       "    <tr>\n",
       "      <th>12</th>\n",
       "      <td>2019-01-18</td>\n",
       "      <td>39.375000</td>\n",
       "      <td>39.470001</td>\n",
       "      <td>38.994999</td>\n",
       "      <td>39.205002</td>\n",
       "      <td>39.232500</td>\n",
       "    </tr>\n",
       "    <tr>\n",
       "      <th>13</th>\n",
       "      <td>2019-01-22</td>\n",
       "      <td>39.102501</td>\n",
       "      <td>39.182499</td>\n",
       "      <td>38.154999</td>\n",
       "      <td>38.325001</td>\n",
       "      <td>38.668749</td>\n",
       "    </tr>\n",
       "    <tr>\n",
       "      <th>14</th>\n",
       "      <td>2019-01-23</td>\n",
       "      <td>38.537498</td>\n",
       "      <td>38.785000</td>\n",
       "      <td>37.924999</td>\n",
       "      <td>38.480000</td>\n",
       "      <td>38.354999</td>\n",
       "    </tr>\n",
       "    <tr>\n",
       "      <th>15</th>\n",
       "      <td>2019-01-24</td>\n",
       "      <td>38.527500</td>\n",
       "      <td>38.619999</td>\n",
       "      <td>37.935001</td>\n",
       "      <td>38.174999</td>\n",
       "      <td>38.277500</td>\n",
       "    </tr>\n",
       "    <tr>\n",
       "      <th>16</th>\n",
       "      <td>2019-01-25</td>\n",
       "      <td>38.869999</td>\n",
       "      <td>39.532501</td>\n",
       "      <td>38.580002</td>\n",
       "      <td>39.439999</td>\n",
       "      <td>39.056252</td>\n",
       "    </tr>\n",
       "    <tr>\n",
       "      <th>17</th>\n",
       "      <td>2019-01-28</td>\n",
       "      <td>38.947498</td>\n",
       "      <td>39.082500</td>\n",
       "      <td>38.415001</td>\n",
       "      <td>39.075001</td>\n",
       "      <td>38.748750</td>\n",
       "    </tr>\n",
       "    <tr>\n",
       "      <th>18</th>\n",
       "      <td>2019-01-29</td>\n",
       "      <td>39.062500</td>\n",
       "      <td>39.532501</td>\n",
       "      <td>38.527500</td>\n",
       "      <td>38.669998</td>\n",
       "      <td>39.030000</td>\n",
       "    </tr>\n",
       "    <tr>\n",
       "      <th>19</th>\n",
       "      <td>2019-01-30</td>\n",
       "      <td>40.812500</td>\n",
       "      <td>41.537498</td>\n",
       "      <td>40.057499</td>\n",
       "      <td>41.312500</td>\n",
       "      <td>40.797499</td>\n",
       "    </tr>\n",
       "    <tr>\n",
       "      <th>20</th>\n",
       "      <td>2019-01-31</td>\n",
       "      <td>41.527500</td>\n",
       "      <td>42.250000</td>\n",
       "      <td>41.139999</td>\n",
       "      <td>41.610001</td>\n",
       "      <td>41.695000</td>\n",
       "    </tr>\n",
       "    <tr>\n",
       "      <th>21</th>\n",
       "      <td>2019-02-01</td>\n",
       "      <td>41.740002</td>\n",
       "      <td>42.244999</td>\n",
       "      <td>41.482498</td>\n",
       "      <td>41.630001</td>\n",
       "      <td>41.863748</td>\n",
       "    </tr>\n",
       "  </tbody>\n",
       "</table>\n",
       "</div>"
      ],
      "text/plain": [
       "         Date       Open       High        Low      Close     Middle\n",
       "0  2019-01-02  38.722500  39.712502  38.557499  39.480000  39.135001\n",
       "1  2019-01-03  35.994999  36.430000  35.500000  35.547501  35.965000\n",
       "2  2019-01-04  36.132500  37.137501  35.950001  37.064999  36.543751\n",
       "3  2019-01-07  37.174999  37.207500  36.474998  36.982498  36.841249\n",
       "4  2019-01-08  37.389999  37.955002  37.130001  37.687500  37.542502\n",
       "5  2019-01-09  37.822498  38.632500  37.407501  38.327499  38.020001\n",
       "6  2019-01-10  38.125000  38.492500  37.715000  38.450001  38.103750\n",
       "7  2019-01-11  38.220001  38.424999  37.877499  38.072498  38.151249\n",
       "8  2019-01-14  37.712502  37.817501  37.305000  37.500000  37.561250\n",
       "9  2019-01-15  37.567501  38.347500  37.512501  38.267502  37.930000\n",
       "10 2019-01-16  38.270000  38.970001  38.250000  38.735001  38.610000\n",
       "11 2019-01-17  38.549999  39.415001  38.314999  38.965000  38.865000\n",
       "12 2019-01-18  39.375000  39.470001  38.994999  39.205002  39.232500\n",
       "13 2019-01-22  39.102501  39.182499  38.154999  38.325001  38.668749\n",
       "14 2019-01-23  38.537498  38.785000  37.924999  38.480000  38.354999\n",
       "15 2019-01-24  38.527500  38.619999  37.935001  38.174999  38.277500\n",
       "16 2019-01-25  38.869999  39.532501  38.580002  39.439999  39.056252\n",
       "17 2019-01-28  38.947498  39.082500  38.415001  39.075001  38.748750\n",
       "18 2019-01-29  39.062500  39.532501  38.527500  38.669998  39.030000\n",
       "19 2019-01-30  40.812500  41.537498  40.057499  41.312500  40.797499\n",
       "20 2019-01-31  41.527500  42.250000  41.139999  41.610001  41.695000\n",
       "21 2019-02-01  41.740002  42.244999  41.482498  41.630001  41.863748"
      ]
     },
     "execution_count": 5,
     "metadata": {},
     "output_type": "execute_result"
    }
   ],
   "source": [
    "# Filter columns of the stocks\n",
    "df_stocks1 = df_stock.drop([\"Adj Close\", \"Volume\"], axis = 1)\n",
    "\n",
    "# Keep only the stocks from 2022-07-01 to 2022-08-01\n",
    "df_stocks1['Date'] = pd.to_datetime(df_stocks1['Date'])\n",
    "df_stocks2 = df_stocks1[(df_stocks1['Date'] >= '2019-01-02') & (df_stocks1['Date'] <= '2019-02-01')]\n",
    "df_stocks2.head()\n",
    "\n",
    "# Replace \" \" with 0\n",
    "df_stocks3= df_stocks2.replace(\" \", 0)\n",
    "\n",
    "# Convert volumes to numeric (in case they were strings)\n",
    "df_stocks3[\"Open\"] = pd.to_numeric(df_stocks3[\"Open\"], errors='coerce').fillna(0)\n",
    "df_stocks3[\"High\"] = pd.to_numeric(df_stocks3[\"High\"], errors='coerce').fillna(0)\n",
    "df_stocks3[\"Low\"] = pd.to_numeric(df_stocks3[\"Low\"], errors='coerce').fillna(0)\n",
    "df_stocks3[\"Close\"] = pd.to_numeric(df_stocks3[\"Close\"], errors='coerce').fillna(0)\n",
    "\n",
    "# Reset the index\n",
    "df_stocks4 = df_stocks3.reset_index(drop=True)\n",
    "\n",
    "# Add Middle\n",
    "df_stocks4[\"Middle\"] = (df_stocks4[\"High\"] + df_stocks4[\"Low\"])/2\n",
    "df_stocks_final = df_stocks4\n",
    "\n",
    "# Visualisation final dataset\n",
    "df_stocks_final"
   ]
  },
  {
   "cell_type": "markdown",
   "id": "5d7f4941-6570-421e-8456-570b2c68b5b9",
   "metadata": {},
   "source": [
    "## Volatility estimation and rescaling"
   ]
  },
  {
   "cell_type": "code",
   "execution_count": 6,
   "id": "fa59cd9d-4131-41de-ba2e-9addf27d2ef7",
   "metadata": {},
   "outputs": [],
   "source": [
    "# Choose the stock price of the time series as a pandas Series\n",
    "Z_hat = df_stocks_final[\"Middle\"]\n",
    "\n",
    "# Calculate logarithmic returns\n",
    "log_returns = np.log(Z_hat / Z_hat.shift(1)).dropna()\n",
    "\n",
    "# Calculate volatility (standard deviation of log returns)\n",
    "volatility = log_returns.std()\n",
    "\n",
    "# Rescaling\n",
    "Z = (Z_hat-Z_hat[0])/volatility\n",
    "df_options_final['Strike price'] = (df_options_final['Strike price']-Z_hat[0])/volatility\n",
    "\n",
    "# Extract Z_1 (strike prices as many times as Total volume of each)\n",
    "strikes = df_options_final['Strike price'].values\n",
    "volumes = df_options_final['Total volume'].astype(int).values\n",
    "Z_1 = np.repeat(strikes, volumes)"
   ]
  },
  {
   "cell_type": "markdown",
   "id": "d0f69c6a-0995-418a-a18c-3533d4edafb9",
   "metadata": {},
   "source": [
    "# Density estimation"
   ]
  },
  {
   "cell_type": "markdown",
   "id": "b43ebf6b-9b61-4650-bc62-d9cc7f41f8c3",
   "metadata": {},
   "source": [
    "## EM Algorithm"
   ]
  },
  {
   "cell_type": "code",
   "execution_count": 7,
   "id": "143adadb-30fe-4a09-91fe-b18365ee6b1c",
   "metadata": {},
   "outputs": [
    {
     "name": "stdout",
     "output_type": "stream",
     "text": [
      "The lowest BIC was achieved with 14 components.\n"
     ]
    }
   ],
   "source": [
    "# EM Algorithm\n",
    "weights_EM, parameters_EM = EM_Algorithm(Z_1 = Z_1, n_components = \"BIC\", n_components_trials = 15)"
   ]
  },
  {
   "cell_type": "markdown",
   "id": "9e35fc4e-4f9a-45a6-a4a7-68150f67a0af",
   "metadata": {},
   "source": [
    "## KDE"
   ]
  },
  {
   "cell_type": "code",
   "execution_count": 8,
   "id": "8771bac0-dd79-4079-b79d-062b6e021044",
   "metadata": {},
   "outputs": [],
   "source": [
    "# KDE \n",
    "weights_KDE, parameters_KDE = KDE(Z_1 = Z_1)"
   ]
  },
  {
   "cell_type": "markdown",
   "id": "80b5565d-f5d8-4cbf-a412-56926d4b669c",
   "metadata": {},
   "source": [
    "# Boundary obtention"
   ]
  },
  {
   "cell_type": "markdown",
   "id": "6caafc9c-9529-4538-96ba-bbf82a969187",
   "metadata": {},
   "source": [
    "## EM Algorithm"
   ]
  },
  {
   "cell_type": "code",
   "execution_count": 9,
   "id": "08ece127-72b9-4791-b9c7-a86613007aa5",
   "metadata": {},
   "outputs": [],
   "source": [
    "# OSB estimation\n",
    "# Temporal mesh\n",
    "mesh = 10\n",
    "t_mesh = np.linspace(0, 1, mesh) # Temporal grid\n",
    "\n",
    "# Spatial grid\n",
    "L = 12500\n",
    "\n",
    "# Boundary\n",
    "np.random.seed(123)\n",
    "value_function_EM, X_vals_EM = optimal_stopping_montecarlo_3(mu = \"continuous\", weights = weights_EM, parameters = parameters_EM, N = mesh, a = min(Z_1)-1, b = max(Z_1)+1, L = L, M = 4500)"
   ]
  },
  {
   "cell_type": "code",
   "execution_count": 10,
   "id": "5f0c8ada-f6c6-4504-8b01-98f1bdf6906e",
   "metadata": {},
   "outputs": [
    {
     "data": {
      "image/png": "[encoded data removed]",
      "text/plain": [
       "<Figure size 800x600 with 1 Axes>"
      ]
     },
     "metadata": {},
     "output_type": "display_data"
    }
   ],
   "source": [
    "# Plotting\n",
    "OSB_visualisation(N = mesh, value_function = value_function_EM, X_vals = X_vals_EM, title = \"Practical case using EM algorithm\", name = \"Practical_case_EM.png\")"
   ]
  },
  {
   "cell_type": "markdown",
   "id": "1d383ef8-83b7-4d11-a0a9-2340df708e20",
   "metadata": {},
   "source": [
    "## KDE"
   ]
  },
  {
   "cell_type": "code",
   "execution_count": 11,
   "id": "80a9cfc3-0ff9-496e-b39c-058e1ebc4c3b",
   "metadata": {},
   "outputs": [],
   "source": [
    "# OSB estimation\n",
    "# Temporal mesh\n",
    "mesh = 10\n",
    "t_mesh = np.linspace(0, 1, mesh) # Temporal grid\n",
    "\n",
    "# Spatial grid\n",
    "L = 12500\n",
    "\n",
    "# Boundary\n",
    "np.random.seed(123)\n",
    "value_function_KDE, X_vals_KDE = optimal_stopping_montecarlo_3(mu = \"continuous\", weights = weights_KDE, parameters = parameters_KDE, N = mesh, a = min(Z_1)-1, b = max(Z_1)+1, L = L, M = 4500)"
   ]
  },
  {
   "cell_type": "code",
   "execution_count": 12,
   "id": "c23864f7-063b-495d-b7e1-90748dc11f65",
   "metadata": {},
   "outputs": [
    {
     "data": {
      "image/png": "[encoded data removed]",
      "text/plain": [
       "<Figure size 800x600 with 1 Axes>"
      ]
     },
     "metadata": {},
     "output_type": "display_data"
    }
   ],
   "source": [
    "# Plotting\n",
    "OSB_visualisation(N = mesh, value_function = value_function_KDE, X_vals = X_vals_KDE, title = \"Practical case using KD\", name = \"Practical_case_KDE.png\")"
   ]
  }
 ],
 "metadata": {
  "kernelspec": {
   "display_name": "Python 3 (ipykernel)",
   "language": "python",
   "name": "python3"
  },
  "language_info": {
   "codemirror_mode": {
    "name": "ipython",
    "version": 3
   },
   "file_extension": ".py",
   "mimetype": "text/x-python",
   "name": "python",
   "nbconvert_exporter": "python",
   "pygments_lexer": "ipython3",
   "version": "3.12.4"
  }
 },
 "nbformat": 4,
 "nbformat_minor": 5
}

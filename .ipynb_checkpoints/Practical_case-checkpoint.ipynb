{
 "cells": [
  {
   "cell_type": "code",
   "execution_count": 2,
   "id": "0df04093-f46b-495d-84fe-4ef4a657263c",
   "metadata": {},
   "outputs": [],
   "source": [
    "# Libraries\n",
    "## Mathematics\n",
    "import numpy as np\n",
    "import pandas as pd\n",
    "from scipy.stats import norm\n",
    "from scipy.interpolate import interp1d\n",
    "from scipy.optimize import minimize_scalar\n",
    "import re\n",
    "\n",
    "## Visualization\n",
    "import matplotlib.pyplot as plt"
   ]
  },
  {
   "cell_type": "code",
   "execution_count": 2,
   "id": "1eb3f60a-40c0-440a-8730-7d92fd126385",
   "metadata": {},
   "outputs": [],
   "source": [
    "# Load functions .py files\n",
    "from Practical_case_functions import EM_Algorithm, KDE, sigma_log_likelihood_vectorized, process_classificator\n",
    "from Perspective_comparison_functions import simulate_brownian_bridge\n",
    "from Visualisation import OSB_visualisation, OSB_visualisation_practical_case\n",
    "from Checking_simulated_boundary_functions_3 import optimal_stopping_montecarlo_3"
   ]
  },
  {
   "cell_type": "markdown",
   "id": "7ac767e5-dcab-4cbd-86ec-32c5d05ac36b",
   "metadata": {},
   "source": [
    "# Data preparation"
   ]
  },
  {
   "cell_type": "markdown",
   "id": "ab565315-5e5f-44e5-a67b-498af768644d",
   "metadata": {},
   "source": [
    "## Options dataframe"
   ]
  },
  {
   "cell_type": "code",
   "execution_count": 3,
   "id": "ecef7526-f8bf-446c-a9d3-8b7c3f9413c5",
   "metadata": {},
   "outputs": [],
   "source": [
    "# Auxiliar functions\n",
    "def rename_column_call(col):\n",
    "    match = re.search(r\"^CALL IBM\\$ JUN18 (\\d{2,3})\\b\", col)\n",
    "    return match.group(1) if match else col\n",
    "\n",
    "def rename_column_put(col):\n",
    "    match = re.search(r\"^PUT IBM\\$ JUN18 (\\d{2,3})\\b\", col)\n",
    "    return match.group(1) if match else col"
   ]
  },
  {
   "cell_type": "code",
   "execution_count": 4,
   "id": "e2ca7a50-4437-40d0-bf54-a8f87f197191",
   "metadata": {},
   "outputs": [
    {
     "data": {
      "text/html": [
       "<div>\n",
       "<style scoped>\n",
       "    .dataframe tbody tr th:only-of-type {\n",
       "        vertical-align: middle;\n",
       "    }\n",
       "\n",
       "    .dataframe tbody tr th {\n",
       "        vertical-align: top;\n",
       "    }\n",
       "\n",
       "    .dataframe thead th {\n",
       "        text-align: right;\n",
       "    }\n",
       "</style>\n",
       "<table border=\"1\" class=\"dataframe\">\n",
       "  <thead>\n",
       "    <tr style=\"text-align: right;\">\n",
       "      <th></th>\n",
       "      <th>Date</th>\n",
       "      <th>75</th>\n",
       "      <th>80</th>\n",
       "      <th>85</th>\n",
       "      <th>90</th>\n",
       "      <th>95</th>\n",
       "      <th>100</th>\n",
       "      <th>105</th>\n",
       "      <th>110</th>\n",
       "      <th>115</th>\n",
       "      <th>...</th>\n",
       "      <th>190</th>\n",
       "      <th>195</th>\n",
       "      <th>200</th>\n",
       "      <th>205</th>\n",
       "      <th>210</th>\n",
       "      <th>215</th>\n",
       "      <th>220</th>\n",
       "      <th>230</th>\n",
       "      <th>240</th>\n",
       "      <th>250</th>\n",
       "    </tr>\n",
       "  </thead>\n",
       "  <tbody>\n",
       "    <tr>\n",
       "      <th>0</th>\n",
       "      <td>8/2/2017</td>\n",
       "      <td>0.0</td>\n",
       "      <td>0.0</td>\n",
       "      <td>0.0</td>\n",
       "      <td>0.0</td>\n",
       "      <td>0.0</td>\n",
       "      <td>0.0</td>\n",
       "      <td>0.0</td>\n",
       "      <td>0.0</td>\n",
       "      <td>0.0</td>\n",
       "      <td>...</td>\n",
       "      <td>0.0</td>\n",
       "      <td>0.0</td>\n",
       "      <td>0.0</td>\n",
       "      <td>0.0</td>\n",
       "      <td>0.0</td>\n",
       "      <td>0.0</td>\n",
       "      <td>0.0</td>\n",
       "      <td>0.0</td>\n",
       "      <td>0.0</td>\n",
       "      <td>0.0</td>\n",
       "    </tr>\n",
       "    <tr>\n",
       "      <th>1</th>\n",
       "      <td>9/2/2017</td>\n",
       "      <td>0.0</td>\n",
       "      <td>0.0</td>\n",
       "      <td>0.0</td>\n",
       "      <td>0.0</td>\n",
       "      <td>0.0</td>\n",
       "      <td>0.0</td>\n",
       "      <td>0.0</td>\n",
       "      <td>0.0</td>\n",
       "      <td>0.0</td>\n",
       "      <td>...</td>\n",
       "      <td>0.0</td>\n",
       "      <td>0.0</td>\n",
       "      <td>0.0</td>\n",
       "      <td>0.0</td>\n",
       "      <td>0.0</td>\n",
       "      <td>0.0</td>\n",
       "      <td>0.0</td>\n",
       "      <td>0.0</td>\n",
       "      <td>0.0</td>\n",
       "      <td>0.0</td>\n",
       "    </tr>\n",
       "    <tr>\n",
       "      <th>2</th>\n",
       "      <td>10/2/2017</td>\n",
       "      <td>0.0</td>\n",
       "      <td>0.0</td>\n",
       "      <td>0.0</td>\n",
       "      <td>0.0</td>\n",
       "      <td>0.0</td>\n",
       "      <td>0.0</td>\n",
       "      <td>0.0</td>\n",
       "      <td>0.0</td>\n",
       "      <td>0.0</td>\n",
       "      <td>...</td>\n",
       "      <td>1.0</td>\n",
       "      <td>0.0</td>\n",
       "      <td>0.0</td>\n",
       "      <td>0.0</td>\n",
       "      <td>0.0</td>\n",
       "      <td>0.0</td>\n",
       "      <td>0.0</td>\n",
       "      <td>0.0</td>\n",
       "      <td>0.0</td>\n",
       "      <td>0.0</td>\n",
       "    </tr>\n",
       "    <tr>\n",
       "      <th>3</th>\n",
       "      <td>13/02/2017</td>\n",
       "      <td>0.0</td>\n",
       "      <td>0.0</td>\n",
       "      <td>0.0</td>\n",
       "      <td>0.0</td>\n",
       "      <td>3.0</td>\n",
       "      <td>0.0</td>\n",
       "      <td>0.0</td>\n",
       "      <td>0.0</td>\n",
       "      <td>0.0</td>\n",
       "      <td>...</td>\n",
       "      <td>1.0</td>\n",
       "      <td>0.0</td>\n",
       "      <td>0.0</td>\n",
       "      <td>0.0</td>\n",
       "      <td>0.0</td>\n",
       "      <td>0.0</td>\n",
       "      <td>0.0</td>\n",
       "      <td>0.0</td>\n",
       "      <td>0.0</td>\n",
       "      <td>0.0</td>\n",
       "    </tr>\n",
       "    <tr>\n",
       "      <th>4</th>\n",
       "      <td>14/02/2017</td>\n",
       "      <td>0.0</td>\n",
       "      <td>0.0</td>\n",
       "      <td>0.0</td>\n",
       "      <td>0.0</td>\n",
       "      <td>3.0</td>\n",
       "      <td>0.0</td>\n",
       "      <td>0.0</td>\n",
       "      <td>0.0</td>\n",
       "      <td>0.0</td>\n",
       "      <td>...</td>\n",
       "      <td>11.0</td>\n",
       "      <td>0.0</td>\n",
       "      <td>0.0</td>\n",
       "      <td>0.0</td>\n",
       "      <td>0.0</td>\n",
       "      <td>0.0</td>\n",
       "      <td>0.0</td>\n",
       "      <td>0.0</td>\n",
       "      <td>0.0</td>\n",
       "      <td>0.0</td>\n",
       "    </tr>\n",
       "    <tr>\n",
       "      <th>...</th>\n",
       "      <td>...</td>\n",
       "      <td>...</td>\n",
       "      <td>...</td>\n",
       "      <td>...</td>\n",
       "      <td>...</td>\n",
       "      <td>...</td>\n",
       "      <td>...</td>\n",
       "      <td>...</td>\n",
       "      <td>...</td>\n",
       "      <td>...</td>\n",
       "      <td>...</td>\n",
       "      <td>...</td>\n",
       "      <td>...</td>\n",
       "      <td>...</td>\n",
       "      <td>...</td>\n",
       "      <td>...</td>\n",
       "      <td>...</td>\n",
       "      <td>...</td>\n",
       "      <td>...</td>\n",
       "      <td>...</td>\n",
       "      <td>...</td>\n",
       "    </tr>\n",
       "    <tr>\n",
       "      <th>347</th>\n",
       "      <td>8/6/2018</td>\n",
       "      <td>1188.0</td>\n",
       "      <td>1312.0</td>\n",
       "      <td>1820.0</td>\n",
       "      <td>93.0</td>\n",
       "      <td>200.0</td>\n",
       "      <td>723.0</td>\n",
       "      <td>719.0</td>\n",
       "      <td>408.0</td>\n",
       "      <td>11875.0</td>\n",
       "      <td>...</td>\n",
       "      <td>3712.0</td>\n",
       "      <td>278.0</td>\n",
       "      <td>3759.0</td>\n",
       "      <td>0.0</td>\n",
       "      <td>649.0</td>\n",
       "      <td>0.0</td>\n",
       "      <td>183.0</td>\n",
       "      <td>92.0</td>\n",
       "      <td>206.0</td>\n",
       "      <td>1923.0</td>\n",
       "    </tr>\n",
       "    <tr>\n",
       "      <th>348</th>\n",
       "      <td>11/6/2018</td>\n",
       "      <td>1188.0</td>\n",
       "      <td>1312.0</td>\n",
       "      <td>1820.0</td>\n",
       "      <td>93.0</td>\n",
       "      <td>200.0</td>\n",
       "      <td>721.0</td>\n",
       "      <td>719.0</td>\n",
       "      <td>408.0</td>\n",
       "      <td>11875.0</td>\n",
       "      <td>...</td>\n",
       "      <td>3712.0</td>\n",
       "      <td>278.0</td>\n",
       "      <td>3759.0</td>\n",
       "      <td>0.0</td>\n",
       "      <td>649.0</td>\n",
       "      <td>0.0</td>\n",
       "      <td>183.0</td>\n",
       "      <td>92.0</td>\n",
       "      <td>206.0</td>\n",
       "      <td>1923.0</td>\n",
       "    </tr>\n",
       "    <tr>\n",
       "      <th>349</th>\n",
       "      <td>12/6/2018</td>\n",
       "      <td>1188.0</td>\n",
       "      <td>1312.0</td>\n",
       "      <td>1820.0</td>\n",
       "      <td>93.0</td>\n",
       "      <td>200.0</td>\n",
       "      <td>721.0</td>\n",
       "      <td>719.0</td>\n",
       "      <td>408.0</td>\n",
       "      <td>11870.0</td>\n",
       "      <td>...</td>\n",
       "      <td>3712.0</td>\n",
       "      <td>278.0</td>\n",
       "      <td>3759.0</td>\n",
       "      <td>0.0</td>\n",
       "      <td>649.0</td>\n",
       "      <td>0.0</td>\n",
       "      <td>183.0</td>\n",
       "      <td>92.0</td>\n",
       "      <td>206.0</td>\n",
       "      <td>1923.0</td>\n",
       "    </tr>\n",
       "    <tr>\n",
       "      <th>350</th>\n",
       "      <td>13/06/2018</td>\n",
       "      <td>1188.0</td>\n",
       "      <td>1312.0</td>\n",
       "      <td>1820.0</td>\n",
       "      <td>93.0</td>\n",
       "      <td>200.0</td>\n",
       "      <td>721.0</td>\n",
       "      <td>719.0</td>\n",
       "      <td>408.0</td>\n",
       "      <td>11870.0</td>\n",
       "      <td>...</td>\n",
       "      <td>3712.0</td>\n",
       "      <td>278.0</td>\n",
       "      <td>3759.0</td>\n",
       "      <td>0.0</td>\n",
       "      <td>649.0</td>\n",
       "      <td>0.0</td>\n",
       "      <td>183.0</td>\n",
       "      <td>92.0</td>\n",
       "      <td>206.0</td>\n",
       "      <td>1923.0</td>\n",
       "    </tr>\n",
       "    <tr>\n",
       "      <th>351</th>\n",
       "      <td>14/06/2018</td>\n",
       "      <td>1188.0</td>\n",
       "      <td>1312.0</td>\n",
       "      <td>1820.0</td>\n",
       "      <td>93.0</td>\n",
       "      <td>200.0</td>\n",
       "      <td>721.0</td>\n",
       "      <td>719.0</td>\n",
       "      <td>408.0</td>\n",
       "      <td>11870.0</td>\n",
       "      <td>...</td>\n",
       "      <td>3712.0</td>\n",
       "      <td>278.0</td>\n",
       "      <td>3759.0</td>\n",
       "      <td>0.0</td>\n",
       "      <td>649.0</td>\n",
       "      <td>0.0</td>\n",
       "      <td>183.0</td>\n",
       "      <td>92.0</td>\n",
       "      <td>206.0</td>\n",
       "      <td>1923.0</td>\n",
       "    </tr>\n",
       "  </tbody>\n",
       "</table>\n",
       "<p>352 rows × 61 columns</p>\n",
       "</div>"
      ],
      "text/plain": [
       "           Date      75      80      85    90     95    100    105    110  \\\n",
       "0      8/2/2017     0.0     0.0     0.0   0.0    0.0    0.0    0.0    0.0   \n",
       "1      9/2/2017     0.0     0.0     0.0   0.0    0.0    0.0    0.0    0.0   \n",
       "2     10/2/2017     0.0     0.0     0.0   0.0    0.0    0.0    0.0    0.0   \n",
       "3    13/02/2017     0.0     0.0     0.0   0.0    3.0    0.0    0.0    0.0   \n",
       "4    14/02/2017     0.0     0.0     0.0   0.0    3.0    0.0    0.0    0.0   \n",
       "..          ...     ...     ...     ...   ...    ...    ...    ...    ...   \n",
       "347    8/6/2018  1188.0  1312.0  1820.0  93.0  200.0  723.0  719.0  408.0   \n",
       "348   11/6/2018  1188.0  1312.0  1820.0  93.0  200.0  721.0  719.0  408.0   \n",
       "349   12/6/2018  1188.0  1312.0  1820.0  93.0  200.0  721.0  719.0  408.0   \n",
       "350  13/06/2018  1188.0  1312.0  1820.0  93.0  200.0  721.0  719.0  408.0   \n",
       "351  14/06/2018  1188.0  1312.0  1820.0  93.0  200.0  721.0  719.0  408.0   \n",
       "\n",
       "         115  ...     190    195     200  205    210  215    220   230    240  \\\n",
       "0        0.0  ...     0.0    0.0     0.0  0.0    0.0  0.0    0.0   0.0    0.0   \n",
       "1        0.0  ...     0.0    0.0     0.0  0.0    0.0  0.0    0.0   0.0    0.0   \n",
       "2        0.0  ...     1.0    0.0     0.0  0.0    0.0  0.0    0.0   0.0    0.0   \n",
       "3        0.0  ...     1.0    0.0     0.0  0.0    0.0  0.0    0.0   0.0    0.0   \n",
       "4        0.0  ...    11.0    0.0     0.0  0.0    0.0  0.0    0.0   0.0    0.0   \n",
       "..       ...  ...     ...    ...     ...  ...    ...  ...    ...   ...    ...   \n",
       "347  11875.0  ...  3712.0  278.0  3759.0  0.0  649.0  0.0  183.0  92.0  206.0   \n",
       "348  11875.0  ...  3712.0  278.0  3759.0  0.0  649.0  0.0  183.0  92.0  206.0   \n",
       "349  11870.0  ...  3712.0  278.0  3759.0  0.0  649.0  0.0  183.0  92.0  206.0   \n",
       "350  11870.0  ...  3712.0  278.0  3759.0  0.0  649.0  0.0  183.0  92.0  206.0   \n",
       "351  11870.0  ...  3712.0  278.0  3759.0  0.0  649.0  0.0  183.0  92.0  206.0   \n",
       "\n",
       "        250  \n",
       "0       0.0  \n",
       "1       0.0  \n",
       "2       0.0  \n",
       "3       0.0  \n",
       "4       0.0  \n",
       "..      ...  \n",
       "347  1923.0  \n",
       "348  1923.0  \n",
       "349  1923.0  \n",
       "350  1923.0  \n",
       "351  1923.0  \n",
       "\n",
       "[352 rows x 61 columns]"
      ]
     },
     "execution_count": 4,
     "metadata": {},
     "output_type": "execute_result"
    }
   ],
   "source": [
    "df_options_call = pd.read_csv(r'C:\\Users\\User\\Documents\\Data\\IBM_CallOptions_DailyOI_JAN2010-NOV2018.csv', sep=',', header=0, low_memory=False)\n",
    "call_dates = df_options_call['Date']\n",
    "df_options_put = pd.read_csv(r'C:\\Users\\User\\Documents\\Data\\IBM_PutOptions_DailyOI_JAN2010-NOV2018.csv', sep=',', header=0, low_memory=False)\n",
    "put_dates = df_options_put['Name']\n",
    "\n",
    "# Filter columns of interest\n",
    "df_options_call = df_options_call[[col for col in df_options_call.columns if col.startswith(\"CALL IBM$ JUN18\")]]\n",
    "df_options_call.columns = [rename_column_call(col) for col in df_options_call.columns]\n",
    "\n",
    "df_options_put = df_options_put[[col for col in df_options_put.columns if col.startswith(\"PUT IBM$ JUN18\")]]\n",
    "df_options_put.columns = [rename_column_put(col) for col in df_options_put.columns]\n",
    "\n",
    "# Add date\n",
    "df_options_call.insert(0, 'Date', call_dates)\n",
    "df_options_put.insert(0, 'Date', put_dates)\n",
    "\n",
    "# Filter no NaN rows\n",
    "df_options_call = df_options_call[df_options_call.iloc[:, 1:].notna().any(axis=1)]\n",
    "df_options_put = df_options_put[df_options_put.iloc[:, 1:].notna().any(axis=1)]\n",
    "\n",
    "# Impute 0 for the values NaN\n",
    "df_options_call.fillna(0, inplace=True)\n",
    "df_options_put.fillna(0, inplace=True)\n",
    "\n",
    "# Create final dataset\n",
    "## Merge using outer join with 'Date' as key\n",
    "df_combined = pd.merge(df_options_put, df_options_call, on='Date', how='outer', suffixes=('_put', '_call'))\n",
    "\n",
    "## Initialise the new dataframe with the column 'Date'\n",
    "df_options_final = pd.DataFrame()\n",
    "df_options_final['Date'] = df_combined['Date']\n",
    "\n",
    "## Consider all common columns\n",
    "common_strikes = set(df_options_put.columns[1:]).intersection(set(df_options_call.columns[1:]))\n",
    "\n",
    "## Add common columns (all)\n",
    "for strike in common_strikes:\n",
    "    df_options_final[strike] = df_combined[f'{strike}_put'].fillna(0) + df_combined[f'{strike}_call'].fillna(0)\n",
    "\n",
    "## Order columns: 'Date' first and then the ordered strikes\n",
    "df_options_final = df_options_final[['Date'] + sorted(common_strikes, key=lambda x: int(x))]\n",
    "\n",
    "\n",
    "## Create a categorical type with call_dates order to preserve order after sorting\n",
    "df_options_final['Date'] = pd.Categorical(df_options_final['Date'], categories=call_dates, ordered=True)\n",
    "\n",
    "## Sort by the categorical 'Date' column\n",
    "df_options_final = df_options_final.sort_values('Date').reset_index(drop=True)\n",
    "\n",
    "## Visualise final dataframe\n",
    "df_options_final"
   ]
  },
  {
   "cell_type": "code",
   "execution_count": 5,
   "id": "0c83e208-5692-4ab7-8770-9808971abc12",
   "metadata": {},
   "outputs": [
    {
     "data": {
      "text/plain": [
       "array([ 75.,  75.,  75., ..., 250., 250., 250.])"
      ]
     },
     "execution_count": 5,
     "metadata": {},
     "output_type": "execute_result"
    }
   ],
   "source": [
    "# Define Z_1\n",
    "date = \"15/05/2018\"\n",
    "options_date = df_options_final[df_options_final['Date'] == date]\n",
    "tilde_Z_1 = np.array([])\n",
    "for col in options_date.columns[1:]:\n",
    "    volume = options_date[col].values[0]\n",
    "    if volume > 0:\n",
    "        new_array = np.full(int(volume), int(col))\n",
    "        tilde_Z_1 = np.concatenate((tilde_Z_1, new_array))\n",
    "tilde_Z_1"
   ]
  },
  {
   "cell_type": "markdown",
   "id": "2d2b1d31-710a-4cb3-a69c-334c93c3c7ac",
   "metadata": {},
   "source": [
    "## Stock dataframe"
   ]
  },
  {
   "cell_type": "code",
   "execution_count": 6,
   "id": "49dbdf0f-91fe-4532-88d4-cd15e4f8feea",
   "metadata": {},
   "outputs": [
    {
     "name": "stdout",
     "output_type": "stream",
     "text": [
      "         Close     Open     High      Low    Middle\n",
      "168924  178.34  178.270  178.355  178.260  178.3075\n",
      "168925  178.28  178.330  178.370  178.260  178.3150\n",
      "168926  178.27  178.270  178.310  178.270  178.2900\n",
      "168927  178.33  178.279  178.335  178.240  178.2875\n",
      "168928  178.29  178.340  178.390  178.228  178.3090\n",
      "          Close     Open    High     Low   Middle\n",
      "194014  143.615  143.500  143.99  143.39  143.690\n",
      "194015  143.830  143.640  143.92  143.53  143.725\n",
      "194016  143.490  143.820  143.88  143.42  143.650\n",
      "194017  143.305  143.481  143.55  143.24  143.395\n",
      "194018  143.310  143.250  143.42  143.18  143.300\n"
     ]
    }
   ],
   "source": [
    "# Read data\n",
    "df_stocks = pd.read_csv(r'C:\\Users\\User\\Documents\\Data\\IBM_5minPrice_ 25JUL2008 - 13DEC2018.csv', sep=',', header=0, low_memory=False)\n",
    "df_stocks_result = df_stocks.copy()\n",
    "\n",
    "# Extract data of interest\n",
    "df_stocks[\"Date\"] = df_stocks[\"Time.Interval\"].str[:9]\n",
    "first_date = \"08FEB2017\"\n",
    "first_date_index = df_stocks.index[df_stocks[\"Date\"] == first_date][0]\n",
    "observation_date = \"15MAY2018\"\n",
    "observation_date_index = df_stocks.index[df_stocks[\"Date\"] == observation_date][0]\n",
    "last_date = \"14JUN2018\"\n",
    "last_date_index = df_stocks.index[df_stocks[\"Date\"] == last_date][0]+78 # Add 78 that are all the intervals considered in a day\n",
    "df_stocks_subset = df_stocks.loc[first_date_index:last_date_index]\n",
    "days_considered = df_stocks_subset.isna().any(axis=1).sum()\n",
    "df_stocks_filtered = df_stocks_subset.dropna(axis=0)\n",
    "\n",
    "df_stocks_filtered1 = df_stocks_filtered[[\"Close\", \"Open\", \"High\", \"Low\"]]\n",
    "df_stocks_filtered2 = df_stocks_filtered1.copy()\n",
    "df_stocks_filtered2[\"Middle\"] = (df_stocks_filtered1[\"High\"] + df_stocks_filtered1[\"Low\"])/2\n",
    "\n",
    "# Save final dataset\n",
    "df_stocks_final = df_stocks_filtered2\n",
    "df_stocks_training = df_stocks_final.loc[:observation_date_index]\n",
    "df_stocks_testing = df_stocks_final.loc[observation_date_index:]\n",
    "print(df_stocks_training.head())\n",
    "print(df_stocks_testing.head())"
   ]
  },
  {
   "cell_type": "code",
   "execution_count": 26,
   "id": "36a9401d-6151-4605-8089-3216873bf65f",
   "metadata": {},
   "outputs": [],
   "source": [
    "T = len(df_stocks_final[\"Middle\"])"
   ]
  },
  {
   "cell_type": "markdown",
   "id": "d0f69c6a-0995-418a-a18c-3533d4edafb9",
   "metadata": {},
   "source": [
    "# Density estimation"
   ]
  },
  {
   "cell_type": "markdown",
   "id": "9e35fc4e-4f9a-45a6-a4a7-68150f67a0af",
   "metadata": {},
   "source": [
    "## KDE"
   ]
  },
  {
   "cell_type": "code",
   "execution_count": 8,
   "id": "8771bac0-dd79-4079-b79d-062b6e021044",
   "metadata": {},
   "outputs": [],
   "source": [
    "# KDE \n",
    "weights_KDE, parameters_KDE = KDE(Z_1 = tilde_Z_1)"
   ]
  },
  {
   "cell_type": "markdown",
   "id": "b43ebf6b-9b61-4650-bc62-d9cc7f41f8c3",
   "metadata": {},
   "source": [
    "## EM Algorithm"
   ]
  },
  {
   "cell_type": "code",
   "execution_count": 9,
   "id": "143adadb-30fe-4a09-91fe-b18365ee6b1c",
   "metadata": {},
   "outputs": [
    {
     "name": "stdout",
     "output_type": "stream",
     "text": [
      "The lowest BIC was achieved with 2 components.\n"
     ]
    }
   ],
   "source": [
    "# EM Algorithm\n",
    "weights_EM, parameters_EM = EM_Algorithm(Z_1 = tilde_Z_1, n_components = \"BIC\", n_components_trials = len(weights_KDE)-1)"
   ]
  },
  {
   "cell_type": "markdown",
   "id": "879074ad-c2e5-4684-8329-aa362b664643",
   "metadata": {},
   "source": [
    "# Volatility estimation"
   ]
  },
  {
   "cell_type": "markdown",
   "id": "29272d88-d64f-4031-9ff2-10eebc726031",
   "metadata": {},
   "source": [
    "## Maximise log-likelihood function verification"
   ]
  },
  {
   "cell_type": "code",
   "execution_count": 10,
   "id": "0ed36065-5084-422a-a647-38daa0029013",
   "metadata": {},
   "outputs": [
    {
     "data": {
      "image/png": "[encoded data removed]",
      "text/plain": [
       "<Figure size 1000x600 with 1 Axes>"
      ]
     },
     "metadata": {},
     "output_type": "display_data"
    }
   ],
   "source": [
    "# Initialize parameters\n",
    "n = df_stocks_final.shape[0]*5\n",
    "weights = np.array([1/4, 1/2, 1/4])\n",
    "parameters = np.array([[-5/9, 0, 1],[2/3, 1/3, 1/2]])\n",
    "volatility = 10\n",
    "\n",
    "# Initialize variables\n",
    "m_tilde = parameters[0]\n",
    "gamma_tilde = parameters[1]\n",
    "\n",
    "# Sample distributions\n",
    "np.random.seed(123)\n",
    "selection = np.random.choice(list(range(0,parameters.shape[1])), size = 1, p = weights)\n",
    "z1 = np.random.normal(loc=m_tilde[selection], scale=gamma_tilde[selection]) # Generated M values of the distribution Z_1\n",
    "process = simulate_brownian_bridge(t = 0, z_t = 0, T = 1, z_T = z1[0], n_steps = 1000, volatility = volatility) # Simulated the brownian brigdge to t+u\n",
    "tilde_z_t = process[1]\n",
    "t = process[0]\n",
    "\n",
    "# Maximise loglikelihood function\n",
    "loglikelihood = [sigma_log_likelihood_vectorized(i, tilde_z_t, t, m_tilde, gamma_tilde, weights) for i in np.linspace(9, 11, 1000)]\n",
    "\n",
    "# Plotting\n",
    "plt.figure(figsize=(10, 6))\n",
    "plt.plot(np.linspace(9, 11, 1000), loglikelihood)\n",
    "plt.xlabel('Volatility')\n",
    "plt.ylabel('Log-likelihood value')\n",
    "plt.title(\"Volatility's log-likelihood function\")\n",
    "plt.grid(True)\n",
    "plt.tight_layout()\n",
    "#plt.savefig(\"loglikelihood_function\", dpi=300)\n",
    "plt.show()"
   ]
  },
  {
   "cell_type": "code",
   "execution_count": 11,
   "id": "0b70ba0f-7fd7-43ed-b967-309ff38efa5a",
   "metadata": {},
   "outputs": [
    {
     "name": "stderr",
     "output_type": "stream",
     "text": [
      "C:\\Users\\User\\Documents\\GitHub\\Opt-stopp-BB-random-pinning-point\\Practical_case_functions.py:167: RuntimeWarning: divide by zero encountered in log\n",
      "  log_likelihood = np.sum(np.log(inner_sums))\n"
     ]
    },
    {
     "data": {
      "image/png": "[encoded data removed]",
      "text/plain": [
       "<Figure size 1000x600 with 1 Axes>"
      ]
     },
     "metadata": {},
     "output_type": "display_data"
    }
   ],
   "source": [
    "# Initialize parameters\n",
    "n = df_stocks_final.shape[0]*5\n",
    "weights = np.array([1/4, 1/2, 1/4])\n",
    "parameters = np.array([[-5/9, 0, 1],[2/3, 1/3, 1/2]])\n",
    "volatility = 10\n",
    "\n",
    "# Initialize variables\n",
    "m_tilde = parameters[0]\n",
    "gamma_tilde = parameters[1]\n",
    "\n",
    "# Simulate process and estimate volatility\n",
    "estimated_volatility = []\n",
    "for _ in range(100):\n",
    "    # Sample distributions\n",
    "    selection = np.random.choice(list(range(0,parameters.shape[1])), size = 1, p = weights)\n",
    "    z1 = np.random.normal(loc=m_tilde[selection], scale=gamma_tilde[selection]) # Generated M values of the distribution Z_1\n",
    "    process = simulate_brownian_bridge(t = 0, z_t = 0, T = 1, z_T = z1[0], n_steps = 1000, volatility = volatility) # Simulated the brownian brigdge to t+u\n",
    "    tilde_z_t = process[1]\n",
    "    t = process[0]\n",
    "    \n",
    "    # Maximise loglikelihood function\n",
    "    loglikelihood = [sigma_log_likelihood_vectorized(i, tilde_z_t, t, m_tilde, gamma_tilde, weights) for i in np.linspace(0.01, 20, 100)]\n",
    "    estimated_volatility.append(np.linspace(0.01, 20, 100)[loglikelihood.index(max(loglikelihood))])\n",
    "\n",
    "# Accumulated mean\n",
    "mean_estimates = [np.mean(estimated_volatility[:i+1]) for i in range(len(estimated_volatility))]\n",
    "\n",
    "# Plotting\n",
    "plt.figure(figsize=(10, 6))\n",
    "plt.plot(range(len(mean_estimates)), mean_estimates, marker='o', label='Estimated volatilities mean')\n",
    "plt.axhline(y=volatility, color='r', linestyle='--', label=f'Volatility = {volatility}')\n",
    "plt.xlabel('Number of simulations')\n",
    "plt.ylabel('Volatility')\n",
    "plt.title('Convergence of the volatility's maximum likelihood estimator expectance')\n",
    "plt.legend()\n",
    "plt.grid(True)\n",
    "plt.tight_layout()\n",
    "plt.ylim(9, 11)\n",
    "plt.savefig(\"Volatility_est\", dpi=300)\n",
    "plt.show()\n"
   ]
  },
  {
   "cell_type": "code",
   "execution_count": 12,
   "id": "eedcf812-3bc7-4700-934b-91f7f2d905ec",
   "metadata": {},
   "outputs": [],
   "source": [
    "tilde_z_t_training = df_stocks_training['Middle']\n",
    "tilde_z_t_testing = df_stocks_testing['Middle']\n",
    "Z_0 = tilde_z_t_training.iloc[0]\n",
    "t = np.linspace(0, 1, T)\n",
    "t_training = t[:len(tilde_z_t_training)]\n",
    "t_testing = t[len(tilde_z_t_training):]"
   ]
  },
  {
   "cell_type": "markdown",
   "id": "98bc1b38-80e9-4717-99fb-1245bb871e29",
   "metadata": {},
   "source": [
    "## EM Algorithm"
   ]
  },
  {
   "cell_type": "code",
   "execution_count": 28,
   "id": "ccb35eda-0ff7-4a5f-9080-6b131d444e10",
   "metadata": {},
   "outputs": [
    {
     "name": "stdout",
     "output_type": "stream",
     "text": [
      "48.888888888888886\n"
     ]
    }
   ],
   "source": [
    "# Initialize variables\n",
    "tilde_m = parameters_EM[0]\n",
    "tilde_gamma = parameters_EM[1]\n",
    "pi = weights_EM\n",
    "\n",
    "# Maximize log-likelihood function\n",
    "volatility_tries = np.linspace(40, 60, 1000)\n",
    "loglikelihood = [sigma_log_likelihood_vectorized(i, tilde_z_t_training, t_training, tilde_m, tilde_gamma, pi) for i in volatility_tries]\n",
    "volatility_EM = volatility_tries[loglikelihood.index(max(loglikelihood))]\n",
    "\n",
    "np.save(\"volatility_EM.npy\", volatility_EM)\n",
    "print(volatility_EM)"
   ]
  },
  {
   "cell_type": "markdown",
   "id": "b034d978-cea5-4f5b-b176-0003f7532be8",
   "metadata": {},
   "source": [
    "## KDE"
   ]
  },
  {
   "cell_type": "code",
   "execution_count": 14,
   "id": "ebd4d91a-2fad-4db1-b490-318e954543a9",
   "metadata": {},
   "outputs": [
    {
     "name": "stdout",
     "output_type": "stream",
     "text": [
      "48.888888888888886\n"
     ]
    }
   ],
   "source": [
    "# Initialize variables\n",
    "tilde_m = parameters_KDE[0]\n",
    "tilde_gamma = parameters_KDE[1]\n",
    "pi = weights_KDE\n",
    "\n",
    "# Maximize log-likelihood function\n",
    "volatility_tries = np.linspace(40, 60, 1000)\n",
    "loglikelihood = [sigma_log_likelihood_vectorized(i, tilde_z_t_training, t_training, tilde_m, tilde_gamma, pi) for i in volatility_tries]\n",
    "volatility_KDE = volatility_tries[loglikelihood.index(max(loglikelihood))]\n",
    "\n",
    "np.save(\"volatility_KDE.npy\", volatility_KDE)\n",
    "print(volatility_KDE)"
   ]
  },
  {
   "cell_type": "markdown",
   "id": "d2f97bfd-2491-4998-bf39-71e916624f4b",
   "metadata": {},
   "source": [
    "## Difference"
   ]
  },
  {
   "cell_type": "code",
   "execution_count": null,
   "id": "4ceff2a8-66d1-4b2d-a39a-b62015314470",
   "metadata": {},
   "outputs": [],
   "source": [
    "volatility_EM = np.load(\"volatility_EM.npy\")\n",
    "volatility_KDE = np.load(\"volatility_KDE.npy\")"
   ]
  },
  {
   "cell_type": "code",
   "execution_count": 15,
   "id": "7e72ed42-befa-497c-b774-9e0b954620fd",
   "metadata": {},
   "outputs": [
    {
     "name": "stdout",
     "output_type": "stream",
     "text": [
      "The difference between volatilities is: 1.212121212121211\n"
     ]
    }
   ],
   "source": [
    "difference = abs(volatility_KDE-volatility_EM)\n",
    "print(f\"The difference between volatilities is: {difference}\")"
   ]
  },
  {
   "cell_type": "markdown",
   "id": "2b6db273-a12e-4cee-a8ea-b6798d7b532c",
   "metadata": {},
   "source": [
    "## EM Algorithm"
   ]
  },
  {
   "cell_type": "code",
   "execution_count": 16,
   "id": "4f6830e2-7e99-41ba-a05e-f37d4d663822",
   "metadata": {},
   "outputs": [],
   "source": [
    "Z_1_EM = (tilde_Z_1 -  Z_0)/volatility_EM\n",
    "\n",
    "m_EM = (parameters_EM[0] -  Z_0)/volatility_EM\n",
    "gamma_EM = parameters_EM[1]/volatility_EM\n",
    "parameters_EM = np.stack((m_EM, gamma_EM), axis=0)"
   ]
  },
  {
   "cell_type": "markdown",
   "id": "86b75959-bd23-4947-b0cb-da24ffdd0128",
   "metadata": {},
   "source": [
    "## KDE"
   ]
  },
  {
   "cell_type": "code",
   "execution_count": 18,
   "id": "29d33b5e-0647-45e3-9aab-eac2168d731e",
   "metadata": {},
   "outputs": [],
   "source": [
    "Z_1_KDE = (tilde_Z_1 -  Z_0)/volatility_KDE\n",
    "\n",
    "m_KDE = (parameters_KDE[0] -  Z_0)/volatility_KDE\n",
    "gamma_KDE = parameters_KDE[1]/volatility_KDE\n",
    "parameters_KDE = np.stack((m_KDE, gamma_KDE), axis=0)"
   ]
  },
  {
   "cell_type": "markdown",
   "id": "80b5565d-f5d8-4cbf-a412-56926d4b669c",
   "metadata": {},
   "source": [
    "# Boundary obtention"
   ]
  },
  {
   "cell_type": "code",
   "execution_count": 20,
   "id": "5b4f2e0c-aaec-4ae8-9a9e-2ed2b13c9469",
   "metadata": {},
   "outputs": [
    {
     "data": {
      "text/plain": [
       "1716"
      ]
     },
     "execution_count": 20,
     "metadata": {},
     "output_type": "execute_result"
    }
   ],
   "source": [
    "len(t_testing)"
   ]
  },
  {
   "cell_type": "markdown",
   "id": "6caafc9c-9529-4538-96ba-bbf82a969187",
   "metadata": {},
   "source": [
    "## EM Algorithm"
   ]
  },
  {
   "cell_type": "code",
   "execution_count": 53,
   "id": "08ece127-72b9-4791-b9c7-a86613007aa5",
   "metadata": {},
   "outputs": [],
   "source": [
    "# OSB estimation\n",
    "# Temporal mesh\n",
    "mesh = len(t_testing)\n",
    "t_mesh = np.linspace(t_testing[0], 1, mesh) # Temporal grid\n",
    "\n",
    "# Spatial grid\n",
    "L = 12500\n",
    "\n",
    "# Boundary\n",
    "np.random.seed(123)\n",
    "value_function_EM, X_vals_EM = optimal_stopping_montecarlo_3(mu = \"continuous\", weights = weights_EM, parameters = parameters_EM, N = mesh, a = min(Z_1_EM)-1, b = max(Z_1_EM)+1, L = L, M = 4500, alpha = 1.5)"
   ]
  },
  {
   "cell_type": "code",
   "execution_count": 54,
   "id": "1ec51142-8b5e-4b46-8990-038b3db6528e",
   "metadata": {},
   "outputs": [
    {
     "data": {
      "image/png": "[encoded data removed]",
      "text/plain": [
       "<Figure size 800x600 with 1 Axes>"
      ]
     },
     "metadata": {},
     "output_type": "display_data"
    }
   ],
   "source": [
    "# Plotting\n",
    "OSB_visualisation_practical_case(N = mesh, value_function = value_function_EM, X_vals = X_vals_EM, volatility = volatility_EM, Z_0 = Z_0, t_0 = t_testing[0], title = \"Practical case using EM\", name = \"Practical_case_EM.png\")"
   ]
  },
  {
   "cell_type": "markdown",
   "id": "1d383ef8-83b7-4d11-a0a9-2340df708e20",
   "metadata": {},
   "source": [
    "## KDE"
   ]
  },
  {
   "cell_type": "code",
   "execution_count": 55,
   "id": "80a9cfc3-0ff9-496e-b39c-058e1ebc4c3b",
   "metadata": {},
   "outputs": [],
   "source": [
    "# OSB estimation\n",
    "# Temporal mesh\n",
    "mesh = len(t_testing)\n",
    "t_mesh = np.linspace(t_testing[0], 1, mesh) # Temporal grid\n",
    "\n",
    "# Spatial grid\n",
    "L = 12500\n",
    "\n",
    "# Boundary\n",
    "np.random.seed(123)\n",
    "value_function_KDE, X_vals_KDE = optimal_stopping_montecarlo_3(mu = \"continuous\", weights = weights_KDE, parameters = parameters_KDE, N = mesh, a = min(Z_1_KDE)-1, b = max(Z_1_KDE)+1, L = L, M = 4500, alpha = 1.5)"
   ]
  },
  {
   "cell_type": "code",
   "execution_count": 56,
   "id": "b9ed107e-3a7f-43c7-be4b-c189d553b5e1",
   "metadata": {},
   "outputs": [
    {
     "data": {
      "image/png": "[encoded data removed]",
      "text/plain": [
       "<Figure size 800x600 with 1 Axes>"
      ]
     },
     "metadata": {},
     "output_type": "display_data"
    }
   ],
   "source": [
    "# Plotting\n",
    "OSB_visualisation_practical_case(N = mesh, value_function = value_function_KDE, X_vals = X_vals_KDE, volatility = volatility_KDE, Z_0 = Z_0, t_0 = t_testing[0], title = \"Practical case using KDE\", name = \"Practical_case_KDE.png\")"
   ]
  },
  {
   "cell_type": "markdown",
   "id": "38f51c1f-3c9a-4945-9c77-7911288198a2",
   "metadata": {},
   "source": [
    "# First element in stopping region"
   ]
  },
  {
   "cell_type": "code",
   "execution_count": 50,
   "id": "40c8a9f6-73ba-4fa3-a05e-7eee4995136a",
   "metadata": {},
   "outputs": [],
   "source": [
    "pair_df_EM = pd.DataFrame({\n",
    "    'Temporal': t_testing,\n",
    "    'Spatial': tilde_z_t_testing\n",
    "})\n",
    "pair_df_KDE = pair_df_EM.copy()"
   ]
  },
  {
   "cell_type": "markdown",
   "id": "1c667679-f9ec-41dd-96ab-2c6f2c0104ac",
   "metadata": {},
   "source": [
    "## EM Algorithm"
   ]
  },
  {
   "cell_type": "code",
   "execution_count": 51,
   "id": "73bdcc37-6001-408a-a9be-b472140393e1",
   "metadata": {},
   "outputs": [
    {
     "name": "stdout",
     "output_type": "stream",
     "text": [
      "The process remains on the continue region.\n"
     ]
    }
   ],
   "source": [
    "classificator_EM = process_classificator(N = mesh, value_function = value_function_EM , X_vals = X_vals_EM, volatility = volatility_EM, Z_0 = Z_0, pair_df = pair_df_EM, neighbours = 7)\n",
    "\n",
    "if np.any(classificator_EM[\"Prediction\"]):\n",
    "    first_true = np.argmax(classificator_EM[\"Prediction\"])\n",
    "    first_true_index = tilde_z_t_testing.index[first_true]\n",
    "    print(f\"The first point to enter the stopping region is: \\n{df_stocks_result.loc[first_true_index]}\")\n",
    "\n",
    "    subset_df = df_stocks_result.loc[:first_true_index]\n",
    "    for col in reversed(df_stocks_result.columns):\n",
    "        na_rows = subset_df[subset_df[col].isna()]\n",
    "        if not na_rows.empty:\n",
    "            row_index = na_rows.index[-1]\n",
    "            print(f\"Occured on: {df_stocks_result.loc[row_index][\"Time.Interval\"][:9]}\")\n",
    "            break\n",
    "\n",
    "else:\n",
    "    print(\"The process remains on the continuation region.\")"
   ]
  },
  {
   "cell_type": "markdown",
   "id": "9537c0da-112a-429c-94fa-6033d674face",
   "metadata": {},
   "source": [
    "## KDE"
   ]
  },
  {
   "cell_type": "code",
   "execution_count": 52,
   "id": "61dd3479-8fae-4503-acd0-7a536731ca0a",
   "metadata": {},
   "outputs": [
    {
     "name": "stdout",
     "output_type": "stream",
     "text": [
      "The process remains on the continue region.\n"
     ]
    }
   ],
   "source": [
    "classificator_KDE = process_classificator(N = mesh, value_function = value_function_KDE , X_vals = X_vals_KDE, volatility = volatility_KDE, Z_0 = Z_0, pair_df = pair_df_KDE, neighbours = 7)\n",
    "\n",
    "if np.any(classificator_KDE[\"Prediction\"]):\n",
    "    first_true = np.argmax(classificator_KDE[\"Prediction\"])\n",
    "    first_true_index = tilde_z_t_testing.index[first_true]\n",
    "    print(f\"The first point to enter the stopping region is: \\n{df_stocks_result.loc[first_true_index]}\")\n",
    "\n",
    "    subset_df = df_stocks_result.loc[:first_true_index]\n",
    "    for col in reversed(df_stocks_result.columns):\n",
    "        na_rows = subset_df[subset_df[col].isna()]\n",
    "        if not na_rows.empty:\n",
    "            row_index = na_rows.index[-1]\n",
    "            print(f\"Occured on: {df_stocks_result.loc[row_index][\"Time.Interval\"][:9]}\")\n",
    "            break\n",
    "else:\n",
    "    print(\"The process remains on the continuation region.\")"
   ]
  }
 ],
 "metadata": {
  "kernelspec": {
   "display_name": "Python 3 (ipykernel)",
   "language": "python",
   "name": "python3"
  },
  "language_info": {
   "codemirror_mode": {
    "name": "ipython",
    "version": 3
   },
   "file_extension": ".py",
   "mimetype": "text/x-python",
   "name": "python",
   "nbconvert_exporter": "python",
   "pygments_lexer": "ipython3",
   "version": "3.12.4"
  }
 },
 "nbformat": 4,
 "nbformat_minor": 5
}

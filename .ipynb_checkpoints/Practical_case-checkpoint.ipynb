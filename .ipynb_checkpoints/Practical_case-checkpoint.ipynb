{
 "cells": [
  {
   "cell_type": "code",
   "execution_count": 2,
   "id": "0df04093-f46b-495d-84fe-4ef4a657263c",
   "metadata": {},
   "outputs": [],
   "source": [
    "# Libraries\n",
    "## Mathematics\n",
    "import numpy as np\n",
    "import pandas as pd\n",
    "from scipy.interpolate import interp1d\n",
    "from scipy.optimize import minimize_scalar\n",
    "\n",
    "## Visualization\n",
    "import matplotlib.pyplot as plt"
   ]
  },
  {
   "cell_type": "code",
   "execution_count": 3,
   "id": "1eb3f60a-40c0-440a-8730-7d92fd126385",
   "metadata": {},
   "outputs": [],
   "source": [
    "# Load functions .py files\n",
    "from Practical_case_functions import EM_Algorithm, KDE, sigma_log_likelihood\n",
    "from Visualisation import OSB_visualisation\n",
    "from Checking_simulated_boundary_functions_3 import optimal_stopping_montecarlo_3"
   ]
  },
  {
   "cell_type": "markdown",
   "id": "7ac767e5-dcab-4cbd-86ec-32c5d05ac36b",
   "metadata": {},
   "source": [
    "# Data preparation"
   ]
  },
  {
   "cell_type": "markdown",
   "id": "ab565315-5e5f-44e5-a67b-498af768644d",
   "metadata": {},
   "source": [
    "## Options dataframe"
   ]
  },
  {
   "cell_type": "code",
   "execution_count": 4,
   "id": "e2ca7a50-4437-40d0-bf54-a8f87f197191",
   "metadata": {},
   "outputs": [],
   "source": [
    "#df_options = pd.read_csv(r'C:\\Users\\User\\Documents\\Data\\.csv', sep=',', header=0, low_memory=False)\n",
    "\n",
    "\n",
    "# Visualisation final dataset\n",
    "#df_options_final = []\n",
    "\n",
    "# Define Z_1\n",
    "Z_1 = np.random.normal(loc=0, scale=1, size=1000)"
   ]
  },
  {
   "cell_type": "markdown",
   "id": "2d2b1d31-710a-4cb3-a69c-334c93c3c7ac",
   "metadata": {},
   "source": [
    "## Stock dataframe"
   ]
  },
  {
   "cell_type": "code",
   "execution_count": 5,
   "id": "49dbdf0f-91fe-4532-88d4-cd15e4f8feea",
   "metadata": {},
   "outputs": [
    {
     "data": {
      "text/html": [
       "<div>\n",
       "<style scoped>\n",
       "    .dataframe tbody tr th:only-of-type {\n",
       "        vertical-align: middle;\n",
       "    }\n",
       "\n",
       "    .dataframe tbody tr th {\n",
       "        vertical-align: top;\n",
       "    }\n",
       "\n",
       "    .dataframe thead th {\n",
       "        text-align: right;\n",
       "    }\n",
       "</style>\n",
       "<table border=\"1\" class=\"dataframe\">\n",
       "  <thead>\n",
       "    <tr style=\"text-align: right;\">\n",
       "      <th></th>\n",
       "      <th>Close</th>\n",
       "      <th>Open</th>\n",
       "      <th>High</th>\n",
       "      <th>Low</th>\n",
       "      <th>Middle</th>\n",
       "    </tr>\n",
       "  </thead>\n",
       "  <tbody>\n",
       "    <tr>\n",
       "      <th>0</th>\n",
       "      <td>129.65</td>\n",
       "      <td>129.00</td>\n",
       "      <td>129.90</td>\n",
       "      <td>128.85</td>\n",
       "      <td>129.375</td>\n",
       "    </tr>\n",
       "    <tr>\n",
       "      <th>1</th>\n",
       "      <td>129.35</td>\n",
       "      <td>129.65</td>\n",
       "      <td>129.67</td>\n",
       "      <td>129.20</td>\n",
       "      <td>129.435</td>\n",
       "    </tr>\n",
       "    <tr>\n",
       "      <th>2</th>\n",
       "      <td>129.23</td>\n",
       "      <td>129.39</td>\n",
       "      <td>129.47</td>\n",
       "      <td>129.14</td>\n",
       "      <td>129.305</td>\n",
       "    </tr>\n",
       "    <tr>\n",
       "      <th>3</th>\n",
       "      <td>129.23</td>\n",
       "      <td>129.22</td>\n",
       "      <td>129.36</td>\n",
       "      <td>129.15</td>\n",
       "      <td>129.255</td>\n",
       "    </tr>\n",
       "    <tr>\n",
       "      <th>4</th>\n",
       "      <td>129.31</td>\n",
       "      <td>129.23</td>\n",
       "      <td>129.38</td>\n",
       "      <td>129.12</td>\n",
       "      <td>129.250</td>\n",
       "    </tr>\n",
       "  </tbody>\n",
       "</table>\n",
       "</div>"
      ],
      "text/plain": [
       "    Close    Open    High     Low   Middle\n",
       "0  129.65  129.00  129.90  128.85  129.375\n",
       "1  129.35  129.65  129.67  129.20  129.435\n",
       "2  129.23  129.39  129.47  129.14  129.305\n",
       "3  129.23  129.22  129.36  129.15  129.255\n",
       "4  129.31  129.23  129.38  129.12  129.250"
      ]
     },
     "execution_count": 5,
     "metadata": {},
     "output_type": "execute_result"
    }
   ],
   "source": [
    "# Read data\n",
    "df_stocks = pd.read_csv(r'C:\\Users\\User\\Documents\\Data\\IBM_5minPrice_ 25JUL2008 - 13DEC2018.csv', sep=',', header=0, low_memory=False)\n",
    "\n",
    "# Extract data of interest\n",
    "df_stocks[\"Date\"] = df_stocks[\"Time.Interval\"].str[:9]\n",
    "first_date = \"25JUL2008\"\n",
    "first_date_index = df_stocks.index[df_stocks[\"Date\"] == first_date][0]\n",
    "last_date = \"08AUG2008\"\n",
    "last_date_index = df_stocks.index[df_stocks[\"Date\"] == last_date][0]+78 # Add 78 that are all the intervals considered in a day\n",
    "df_stocks_subset = df_stocks.loc[first_date_index:last_date_index]\n",
    "days_considered = df_stocks_subset.isna().any(axis=1).sum()\n",
    "df_stocks_filtered = df_stocks_subset.dropna(axis=0)\n",
    "\n",
    "df_stocks_filtered1 = df_stocks_filtered[[\"Close\", \"Open\", \"High\", \"Low\"]]\n",
    "df_stocks_filtered2 = df_stocks_filtered1.copy()\n",
    "df_stocks_filtered2[\"Middle\"] = (df_stocks_filtered1[\"High\"] + df_stocks_filtered1[\"Low\"])/2\n",
    "\n",
    "# Save final dataset\n",
    "df_stocks_final = df_stocks_filtered2\n",
    "df_stocks_final.reset_index(drop=True, inplace=True)\n",
    "df_stocks_final.head()"
   ]
  },
  {
   "cell_type": "markdown",
   "id": "5d7f4941-6570-421e-8456-570b2c68b5b9",
   "metadata": {},
   "source": [
    "## Volatility estimation"
   ]
  },
  {
   "cell_type": "code",
   "execution_count": 6,
   "id": "fa59cd9d-4131-41de-ba2e-9addf27d2ef7",
   "metadata": {},
   "outputs": [],
   "source": [
    "# Choose the stock price of the time series as a pandas Series\n",
    "Z_hat = df_stocks_final[\"Middle\"]\n",
    "\n",
    "# Calculate logarithmic returns\n",
    "log_returns = np.log(Z_hat / Z_hat.shift(1)).dropna()\n",
    "\n",
    "# Calculate volatility (standard deviation of log returns)\n",
    "volatility = log_returns.std()"
   ]
  },
  {
   "cell_type": "markdown",
   "id": "d0f69c6a-0995-418a-a18c-3533d4edafb9",
   "metadata": {},
   "source": [
    "# Density estimation"
   ]
  },
  {
   "cell_type": "markdown",
   "id": "b43ebf6b-9b61-4650-bc62-d9cc7f41f8c3",
   "metadata": {},
   "source": [
    "## EM Algorithm"
   ]
  },
  {
   "cell_type": "code",
   "execution_count": 7,
   "id": "143adadb-30fe-4a09-91fe-b18365ee6b1c",
   "metadata": {},
   "outputs": [
    {
     "name": "stderr",
     "output_type": "stream",
     "text": [
      "C:\\Users\\User\\anaconda3\\Lib\\site-packages\\sklearn\\cluster\\_kmeans.py:1446: UserWarning: KMeans is known to have a memory leak on Windows with MKL, when there are less chunks than available threads. You can avoid it by setting the environment variable OMP_NUM_THREADS=4.\n",
      "  warnings.warn(\n",
      "C:\\Users\\User\\anaconda3\\Lib\\site-packages\\sklearn\\cluster\\_kmeans.py:1446: UserWarning: KMeans is known to have a memory leak on Windows with MKL, when there are less chunks than available threads. You can avoid it by setting the environment variable OMP_NUM_THREADS=4.\n",
      "  warnings.warn(\n",
      "C:\\Users\\User\\anaconda3\\Lib\\site-packages\\sklearn\\cluster\\_kmeans.py:1446: UserWarning: KMeans is known to have a memory leak on Windows with MKL, when there are less chunks than available threads. You can avoid it by setting the environment variable OMP_NUM_THREADS=4.\n",
      "  warnings.warn(\n",
      "C:\\Users\\User\\anaconda3\\Lib\\site-packages\\sklearn\\cluster\\_kmeans.py:1446: UserWarning: KMeans is known to have a memory leak on Windows with MKL, when there are less chunks than available threads. You can avoid it by setting the environment variable OMP_NUM_THREADS=4.\n",
      "  warnings.warn(\n",
      "C:\\Users\\User\\anaconda3\\Lib\\site-packages\\sklearn\\cluster\\_kmeans.py:1446: UserWarning: KMeans is known to have a memory leak on Windows with MKL, when there are less chunks than available threads. You can avoid it by setting the environment variable OMP_NUM_THREADS=4.\n",
      "  warnings.warn(\n",
      "C:\\Users\\User\\anaconda3\\Lib\\site-packages\\sklearn\\cluster\\_kmeans.py:1446: UserWarning: KMeans is known to have a memory leak on Windows with MKL, when there are less chunks than available threads. You can avoid it by setting the environment variable OMP_NUM_THREADS=4.\n",
      "  warnings.warn(\n",
      "C:\\Users\\User\\anaconda3\\Lib\\site-packages\\sklearn\\cluster\\_kmeans.py:1446: UserWarning: KMeans is known to have a memory leak on Windows with MKL, when there are less chunks than available threads. You can avoid it by setting the environment variable OMP_NUM_THREADS=4.\n",
      "  warnings.warn(\n",
      "C:\\Users\\User\\anaconda3\\Lib\\site-packages\\sklearn\\cluster\\_kmeans.py:1446: UserWarning: KMeans is known to have a memory leak on Windows with MKL, when there are less chunks than available threads. You can avoid it by setting the environment variable OMP_NUM_THREADS=4.\n",
      "  warnings.warn(\n",
      "C:\\Users\\User\\anaconda3\\Lib\\site-packages\\sklearn\\cluster\\_kmeans.py:1446: UserWarning: KMeans is known to have a memory leak on Windows with MKL, when there are less chunks than available threads. You can avoid it by setting the environment variable OMP_NUM_THREADS=4.\n",
      "  warnings.warn(\n",
      "C:\\Users\\User\\anaconda3\\Lib\\site-packages\\sklearn\\cluster\\_kmeans.py:1446: UserWarning: KMeans is known to have a memory leak on Windows with MKL, when there are less chunks than available threads. You can avoid it by setting the environment variable OMP_NUM_THREADS=4.\n",
      "  warnings.warn(\n",
      "C:\\Users\\User\\anaconda3\\Lib\\site-packages\\sklearn\\cluster\\_kmeans.py:1446: UserWarning: KMeans is known to have a memory leak on Windows with MKL, when there are less chunks than available threads. You can avoid it by setting the environment variable OMP_NUM_THREADS=4.\n",
      "  warnings.warn(\n",
      "C:\\Users\\User\\anaconda3\\Lib\\site-packages\\sklearn\\cluster\\_kmeans.py:1446: UserWarning: KMeans is known to have a memory leak on Windows with MKL, when there are less chunks than available threads. You can avoid it by setting the environment variable OMP_NUM_THREADS=4.\n",
      "  warnings.warn(\n",
      "C:\\Users\\User\\anaconda3\\Lib\\site-packages\\sklearn\\cluster\\_kmeans.py:1446: UserWarning: KMeans is known to have a memory leak on Windows with MKL, when there are less chunks than available threads. You can avoid it by setting the environment variable OMP_NUM_THREADS=4.\n",
      "  warnings.warn(\n",
      "C:\\Users\\User\\anaconda3\\Lib\\site-packages\\sklearn\\cluster\\_kmeans.py:1446: UserWarning: KMeans is known to have a memory leak on Windows with MKL, when there are less chunks than available threads. You can avoid it by setting the environment variable OMP_NUM_THREADS=4.\n",
      "  warnings.warn(\n"
     ]
    },
    {
     "name": "stdout",
     "output_type": "stream",
     "text": [
      "The lowest BIC was achieved with 1 components.\n"
     ]
    }
   ],
   "source": [
    "# EM Algorithm\n",
    "weights_EM, parameters_EM = EM_Algorithm(Z_1 = Z_1, n_components = \"BIC\", n_components_trials = 15)"
   ]
  },
  {
   "cell_type": "markdown",
   "id": "9e35fc4e-4f9a-45a6-a4a7-68150f67a0af",
   "metadata": {},
   "source": [
    "## KDE"
   ]
  },
  {
   "cell_type": "code",
   "execution_count": 8,
   "id": "8771bac0-dd79-4079-b79d-062b6e021044",
   "metadata": {},
   "outputs": [],
   "source": [
    "# KDE \n",
    "weights_KDE, parameters_KDE = KDE(Z_1 = Z_1)"
   ]
  },
  {
   "cell_type": "markdown",
   "id": "879074ad-c2e5-4684-8329-aa362b664643",
   "metadata": {},
   "source": [
    "# Volatility estimation"
   ]
  },
  {
   "cell_type": "code",
   "execution_count": 9,
   "id": "f4f7e382-2a8f-434f-86e2-a01905be37a3",
   "metadata": {},
   "outputs": [],
   "source": [
    "T= df_stocks_final.shape[0]*5 # Each minute is a step of size 1"
   ]
  },
  {
   "cell_type": "markdown",
   "id": "98bc1b38-80e9-4717-99fb-1245bb871e29",
   "metadata": {},
   "source": [
    "## EM Algorithm"
   ]
  },
  {
   "cell_type": "code",
   "execution_count": 31,
   "id": "ccb35eda-0ff7-4a5f-9080-6b131d444e10",
   "metadata": {},
   "outputs": [
    {
     "name": "stdout",
     "output_type": "stream",
     "text": [
      "14.999995493999162\n"
     ]
    }
   ],
   "source": [
    "# Initialize variables\n",
    "tilde_z_t = df_stocks_final['Middle']\n",
    "tilde_t = np.linspace(0, T, df_stocks_final.shape[0])\n",
    "tilde_m = parameters_EM[0]\n",
    "tilde_gamma2 = parameters_EM[1]**2\n",
    "pi = weights_EM\n",
    "\n",
    "# Maximize log-likelihood function\n",
    "result = minimize_scalar(lambda s: -sigma_log_likelihood(s, tilde_z_t, tilde_t, tilde_m, tilde_gamma2, pi, T),\n",
    "                         bounds=(1e-3, 15), method='bounded')\n",
    "\n",
    "volatility_EM = result.x\n",
    "print(volatility_EM)"
   ]
  },
  {
   "cell_type": "markdown",
   "id": "b034d978-cea5-4f5b-b176-0003f7532be8",
   "metadata": {},
   "source": [
    "## KDE"
   ]
  },
  {
   "cell_type": "code",
   "execution_count": 30,
   "id": "ebd4d91a-2fad-4db1-b490-318e954543a9",
   "metadata": {},
   "outputs": [
    {
     "ename": "KeyboardInterrupt",
     "evalue": "",
     "output_type": "error",
     "traceback": [
      "\u001b[1;31m---------------------------------------------------------------------------\u001b[0m",
      "\u001b[1;31mKeyboardInterrupt\u001b[0m                         Traceback (most recent call last)",
      "Cell \u001b[1;32mIn[30], line 9\u001b[0m\n\u001b[0;32m      6\u001b[0m pi \u001b[38;5;241m=\u001b[39m weights_KDE\n\u001b[0;32m      8\u001b[0m \u001b[38;5;66;03m# Maximize log-likelihood function\u001b[39;00m\n\u001b[1;32m----> 9\u001b[0m result \u001b[38;5;241m=\u001b[39m minimize_scalar(\u001b[38;5;28;01mlambda\u001b[39;00m s: sigma_log_likelihood(s, tilde_z_t, tilde_t, tilde_m, tilde_gamma2, pi, T),\n\u001b[0;32m     10\u001b[0m                          bounds\u001b[38;5;241m=\u001b[39m(\u001b[38;5;241m1e-3\u001b[39m, \u001b[38;5;241m15\u001b[39m), method\u001b[38;5;241m=\u001b[39m\u001b[38;5;124m'\u001b[39m\u001b[38;5;124mbounded\u001b[39m\u001b[38;5;124m'\u001b[39m)\n\u001b[0;32m     12\u001b[0m volatility_KDE \u001b[38;5;241m=\u001b[39m result\u001b[38;5;241m.\u001b[39mx\n\u001b[0;32m     13\u001b[0m \u001b[38;5;28mprint\u001b[39m(volatility_KDE)\n",
      "File \u001b[1;32m~\\anaconda3\\Lib\\site-packages\\scipy\\optimize\\_minimize.py:945\u001b[0m, in \u001b[0;36mminimize_scalar\u001b[1;34m(fun, bracket, bounds, args, method, tol, options)\u001b[0m\n\u001b[0;32m    942\u001b[0m     \u001b[38;5;28;01mif\u001b[39;00m bounds \u001b[38;5;129;01mis\u001b[39;00m \u001b[38;5;28;01mNone\u001b[39;00m:\n\u001b[0;32m    943\u001b[0m         \u001b[38;5;28;01mraise\u001b[39;00m \u001b[38;5;167;01mValueError\u001b[39;00m(\u001b[38;5;124m'\u001b[39m\u001b[38;5;124mThe `bounds` parameter is mandatory for \u001b[39m\u001b[38;5;124m'\u001b[39m\n\u001b[0;32m    944\u001b[0m                          \u001b[38;5;124m'\u001b[39m\u001b[38;5;124mmethod `bounded`.\u001b[39m\u001b[38;5;124m'\u001b[39m)\n\u001b[1;32m--> 945\u001b[0m     res \u001b[38;5;241m=\u001b[39m _minimize_scalar_bounded(fun, bounds, args, \u001b[38;5;241m*\u001b[39m\u001b[38;5;241m*\u001b[39moptions)\n\u001b[0;32m    946\u001b[0m \u001b[38;5;28;01melif\u001b[39;00m meth \u001b[38;5;241m==\u001b[39m \u001b[38;5;124m'\u001b[39m\u001b[38;5;124mgolden\u001b[39m\u001b[38;5;124m'\u001b[39m:\n\u001b[0;32m    947\u001b[0m     res \u001b[38;5;241m=\u001b[39m _recover_from_bracket_error(_minimize_scalar_golden,\n\u001b[0;32m    948\u001b[0m                                       fun, bracket, args, \u001b[38;5;241m*\u001b[39m\u001b[38;5;241m*\u001b[39moptions)\n",
      "File \u001b[1;32m~\\anaconda3\\Lib\\site-packages\\scipy\\optimize\\_optimize.py:2269\u001b[0m, in \u001b[0;36m_minimize_scalar_bounded\u001b[1;34m(func, bounds, args, xatol, maxiter, disp, **unknown_options)\u001b[0m\n\u001b[0;32m   2267\u001b[0m rat \u001b[38;5;241m=\u001b[39m e \u001b[38;5;241m=\u001b[39m \u001b[38;5;241m0.0\u001b[39m\n\u001b[0;32m   2268\u001b[0m x \u001b[38;5;241m=\u001b[39m xf\n\u001b[1;32m-> 2269\u001b[0m fx \u001b[38;5;241m=\u001b[39m func(x, \u001b[38;5;241m*\u001b[39margs)\n\u001b[0;32m   2270\u001b[0m num \u001b[38;5;241m=\u001b[39m \u001b[38;5;241m1\u001b[39m\n\u001b[0;32m   2271\u001b[0m fmin_data \u001b[38;5;241m=\u001b[39m (\u001b[38;5;241m1\u001b[39m, xf, fx)\n",
      "Cell \u001b[1;32mIn[30], line 9\u001b[0m, in \u001b[0;36m<lambda>\u001b[1;34m(s)\u001b[0m\n\u001b[0;32m      6\u001b[0m pi \u001b[38;5;241m=\u001b[39m weights_KDE\n\u001b[0;32m      8\u001b[0m \u001b[38;5;66;03m# Maximize log-likelihood function\u001b[39;00m\n\u001b[1;32m----> 9\u001b[0m result \u001b[38;5;241m=\u001b[39m minimize_scalar(\u001b[38;5;28;01mlambda\u001b[39;00m s: sigma_log_likelihood(s, tilde_z_t, tilde_t, tilde_m, tilde_gamma2, pi, T),\n\u001b[0;32m     10\u001b[0m                          bounds\u001b[38;5;241m=\u001b[39m(\u001b[38;5;241m1e-3\u001b[39m, \u001b[38;5;241m15\u001b[39m), method\u001b[38;5;241m=\u001b[39m\u001b[38;5;124m'\u001b[39m\u001b[38;5;124mbounded\u001b[39m\u001b[38;5;124m'\u001b[39m)\n\u001b[0;32m     12\u001b[0m volatility_KDE \u001b[38;5;241m=\u001b[39m result\u001b[38;5;241m.\u001b[39mx\n\u001b[0;32m     13\u001b[0m \u001b[38;5;28mprint\u001b[39m(volatility_KDE)\n",
      "File \u001b[1;32m~\\Documents\\GitHub\\Opt-stopp-BB-random-pinning-point\\Practical_case_functions.py:138\u001b[0m, in \u001b[0;36msigma_log_likelihood\u001b[1;34m(sigma, tilde_z_t, tilde_t, tilde_m, tilde_gamma2, pi, T)\u001b[0m\n\u001b[0;32m    136\u001b[0m     Bh \u001b[38;5;241m=\u001b[39m z_ti \u001b[38;5;241m/\u001b[39m (\u001b[38;5;241m1\u001b[39m \u001b[38;5;241m-\u001b[39m ti) \u001b[38;5;241m+\u001b[39m mh \u001b[38;5;241m/\u001b[39m gamma_h2\n\u001b[0;32m    137\u001b[0m     Ch \u001b[38;5;241m=\u001b[39m (Bh\u001b[38;5;241m*\u001b[39m\u001b[38;5;241m*\u001b[39m\u001b[38;5;241m2\u001b[39m) \u001b[38;5;241m/\u001b[39m (\u001b[38;5;241m4\u001b[39m \u001b[38;5;241m*\u001b[39m Ah) \u001b[38;5;241m-\u001b[39m (mh\u001b[38;5;241m*\u001b[39m\u001b[38;5;241m*\u001b[39m\u001b[38;5;241m2\u001b[39m) \u001b[38;5;241m/\u001b[39m (\u001b[38;5;241m2\u001b[39m \u001b[38;5;241m*\u001b[39m gamma_h2)\n\u001b[1;32m--> 138\u001b[0m     denom \u001b[38;5;241m+\u001b[39m\u001b[38;5;241m=\u001b[39m pi[h] \u001b[38;5;241m*\u001b[39m np\u001b[38;5;241m.\u001b[39mexp(Ch) \u001b[38;5;241m*\u001b[39m np\u001b[38;5;241m.\u001b[39msqrt(np\u001b[38;5;241m.\u001b[39mpi \u001b[38;5;241m/\u001b[39m Ah)\n\u001b[0;32m    140\u001b[0m w_ij \u001b[38;5;241m=\u001b[39m pi[j] \u001b[38;5;241m*\u001b[39m np\u001b[38;5;241m.\u001b[39mexp(C) \u001b[38;5;241m*\u001b[39m np\u001b[38;5;241m.\u001b[39msqrt(np\u001b[38;5;241m.\u001b[39mpi \u001b[38;5;241m/\u001b[39m A) \u001b[38;5;241m/\u001b[39m denom\n\u001b[0;32m    141\u001b[0m m_j_ti \u001b[38;5;241m=\u001b[39m B \u001b[38;5;241m/\u001b[39m (\u001b[38;5;241m2\u001b[39m \u001b[38;5;241m*\u001b[39m A)\n",
      "\u001b[1;31mKeyboardInterrupt\u001b[0m: "
     ]
    }
   ],
   "source": [
    "# Initialize variables\n",
    "tilde_z_t = df_stocks_final['Middle']\n",
    "tilde_t = np.linspace(0, T, df_stocks_final.shape[0])\n",
    "tilde_m = parameters_KDE[0]\n",
    "tilde_gamma2 = parameters_KDE[1]**2\n",
    "pi = weights_KDE\n",
    "\n",
    "# Maximize log-likelihood function\n",
    "result = minimize_scalar(lambda s: -sigma_log_likelihood(s, tilde_z_t, tilde_t, tilde_m, tilde_gamma2, pi, T),\n",
    "                         bounds=(1e-3, 15), method='bounded')\n",
    "\n",
    "volatility_KDE = result.x\n",
    "print(volatility_KDE)"
   ]
  },
  {
   "cell_type": "markdown",
   "id": "00c90750-ec79-4d27-a465-59d196d93412",
   "metadata": {},
   "source": [
    "# Scaling"
   ]
  },
  {
   "cell_type": "markdown",
   "id": "2b6db273-a12e-4cee-a8ea-b6798d7b532c",
   "metadata": {},
   "source": [
    "## EM Algorithm"
   ]
  },
  {
   "cell_type": "code",
   "execution_count": null,
   "id": "4f6830e2-7e99-41ba-a05e-f37d4d663822",
   "metadata": {},
   "outputs": [],
   "source": []
  },
  {
   "cell_type": "markdown",
   "id": "86b75959-bd23-4947-b0cb-da24ffdd0128",
   "metadata": {},
   "source": [
    "## KDE"
   ]
  },
  {
   "cell_type": "code",
   "execution_count": null,
   "id": "29d33b5e-0647-45e3-9aab-eac2168d731e",
   "metadata": {},
   "outputs": [],
   "source": []
  },
  {
   "cell_type": "markdown",
   "id": "80b5565d-f5d8-4cbf-a412-56926d4b669c",
   "metadata": {},
   "source": [
    "# Boundary obtention"
   ]
  },
  {
   "cell_type": "markdown",
   "id": "6caafc9c-9529-4538-96ba-bbf82a969187",
   "metadata": {},
   "source": [
    "## EM Algorithm"
   ]
  },
  {
   "cell_type": "code",
   "execution_count": 11,
   "id": "08ece127-72b9-4791-b9c7-a86613007aa5",
   "metadata": {},
   "outputs": [],
   "source": [
    "# OSB estimation\n",
    "# Temporal mesh\n",
    "mesh = 10\n",
    "t_mesh = np.linspace(0, 1, mesh) # Temporal grid\n",
    "\n",
    "# Spatial grid\n",
    "L = 12500\n",
    "\n",
    "# Boundary\n",
    "np.random.seed(123)\n",
    "value_function_EM, X_vals_EM = optimal_stopping_montecarlo_3(mu = \"continuous\", weights = weights_EM, parameters = parameters_EM, N = mesh, a = min(Z_1)-1, b = max(Z_1)+1, L = L, M = 4500)"
   ]
  },
  {
   "cell_type": "code",
   "execution_count": 12,
   "id": "5f0c8ada-f6c6-4504-8b01-98f1bdf6906e",
   "metadata": {},
   "outputs": [
    {
     "data": {
      "image/png": "[encoded data removed]",
      "text/plain": [
       "<Figure size 800x600 with 1 Axes>"
      ]
     },
     "metadata": {},
     "output_type": "display_data"
    }
   ],
   "source": [
    "# Plotting\n",
    "OSB_visualisation(N = mesh, value_function = value_function_EM, X_vals = X_vals_EM, title = \"Practical case using EM algorithm\", name = \"Practical_case_EM.png\")"
   ]
  },
  {
   "cell_type": "markdown",
   "id": "1d383ef8-83b7-4d11-a0a9-2340df708e20",
   "metadata": {},
   "source": [
    "## KDE"
   ]
  },
  {
   "cell_type": "code",
   "execution_count": 13,
   "id": "80a9cfc3-0ff9-496e-b39c-058e1ebc4c3b",
   "metadata": {},
   "outputs": [],
   "source": [
    "# OSB estimation\n",
    "# Temporal mesh\n",
    "mesh = 10\n",
    "t_mesh = np.linspace(0, 1, mesh) # Temporal grid\n",
    "\n",
    "# Spatial grid\n",
    "L = 12500\n",
    "\n",
    "# Boundary\n",
    "np.random.seed(123)\n",
    "value_function_KDE, X_vals_KDE = optimal_stopping_montecarlo_3(mu = \"continuous\", weights = weights_KDE, parameters = parameters_KDE, N = mesh, a = min(Z_1)-1, b = max(Z_1)+1, L = L, M = 4500)"
   ]
  },
  {
   "cell_type": "code",
   "execution_count": 14,
   "id": "c23864f7-063b-495d-b7e1-90748dc11f65",
   "metadata": {},
   "outputs": [
    {
     "data": {
      "image/png": "[encoded data removed]",
      "text/plain": [
       "<Figure size 800x600 with 1 Axes>"
      ]
     },
     "metadata": {},
     "output_type": "display_data"
    }
   ],
   "source": [
    "# Plotting\n",
    "OSB_visualisation(N = mesh, value_function = value_function_KDE, X_vals = X_vals_KDE, title = \"Practical case using KD\", name = \"Practical_case_KDE.png\")"
   ]
  }
 ],
 "metadata": {
  "kernelspec": {
   "display_name": "Python 3 (ipykernel)",
   "language": "python",
   "name": "python3"
  },
  "language_info": {
   "codemirror_mode": {
    "name": "ipython",
    "version": 3
   },
   "file_extension": ".py",
   "mimetype": "text/x-python",
   "name": "python",
   "nbconvert_exporter": "python",
   "pygments_lexer": "ipython3",
   "version": "3.12.4"
  }
 },
 "nbformat": 4,
 "nbformat_minor": 5
}
